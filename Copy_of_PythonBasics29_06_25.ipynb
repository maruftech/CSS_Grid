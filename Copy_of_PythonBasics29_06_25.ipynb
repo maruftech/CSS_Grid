{
  "nbformat": 4,
  "nbformat_minor": 0,
  "metadata": {
    "colab": {
      "provenance": [],
      "include_colab_link": true
    },
    "kernelspec": {
      "name": "python3",
      "display_name": "Python 3"
    },
    "language_info": {
      "name": "python"
    }
  },
  "cells": [
    {
      "cell_type": "markdown",
      "metadata": {
        "id": "view-in-github",
        "colab_type": "text"
      },
      "source": [
        "<a href=\"https://colab.research.google.com/github/maruftech/CSS_Grid/blob/master/Copy_of_PythonBasics29_06_25.ipynb\" target=\"_parent\"><img src=\"https://colab.research.google.com/assets/colab-badge.svg\" alt=\"Open In Colab\"/></a>"
      ]
    },
    {
      "cell_type": "markdown",
      "source": [
        "# Python\n",
        "\n",
        "Python is high proramming language -> close to english that is human understandable language\n",
        "\n",
        "computer is goint to under it in form of 0/1 ->\n",
        "\n",
        "Python is an object oriented programming language.\n",
        "\n",
        "Python is interpreted language\n",
        "\n",
        "Interpreter -> Line by line\n",
        "Compiler-> All at once\n",
        "\n",
        "Python is case sensitive language . APPLE,apple,Apple,aPple(all are different)"
      ],
      "metadata": {
        "id": "DcC9JzKnVu8O"
      }
    },
    {
      "cell_type": "code",
      "execution_count": null,
      "metadata": {
        "colab": {
          "base_uri": "https://localhost:8080/"
        },
        "id": "hcHVRxF0EQix",
        "outputId": "77b3a839-272e-424d-942f-0068094710f1"
      },
      "outputs": [
        {
          "output_type": "stream",
          "name": "stdout",
          "text": [
            "Hello world\n"
          ]
        }
      ],
      "source": [
        "print(\"Hello world\") #Shift+enter to run"
      ]
    },
    {
      "cell_type": "markdown",
      "source": [
        "**Today's Agenda** : Python installation,python basics,variables,datatypes"
      ],
      "metadata": {
        "id": "v6my72JWFmPq"
      }
    },
    {
      "cell_type": "code",
      "source": [
        "print(\"HeLLO WORLD\")\n",
        "print(\"Hello Swastik\")\n",
        "print(\"Hello python\")\n",
        "Print(\"Hello Intellipaat\")\n",
        "print(\"Hello AI\") #This will never execute."
      ],
      "metadata": {
        "colab": {
          "base_uri": "https://localhost:8080/",
          "height": 245
        },
        "id": "J78lBvG1X8wV",
        "outputId": "fe540d35-8f7b-4008-941a-92e1c1dbfdd1"
      },
      "execution_count": null,
      "outputs": [
        {
          "output_type": "stream",
          "name": "stdout",
          "text": [
            "HeLLO WORLD\n",
            "Hello Swastik\n",
            "Hello python\n"
          ]
        },
        {
          "output_type": "error",
          "ename": "NameError",
          "evalue": "name 'Print' is not defined",
          "traceback": [
            "\u001b[0;31m---------------------------------------------------------------------------\u001b[0m",
            "\u001b[0;31mNameError\u001b[0m                                 Traceback (most recent call last)",
            "\u001b[0;32m/tmp/ipython-input-5-1176416392.py\u001b[0m in \u001b[0;36m<cell line: 0>\u001b[0;34m()\u001b[0m\n\u001b[1;32m      2\u001b[0m \u001b[0mprint\u001b[0m\u001b[0;34m(\u001b[0m\u001b[0;34m\"Hello Swastik\"\u001b[0m\u001b[0;34m)\u001b[0m\u001b[0;34m\u001b[0m\u001b[0;34m\u001b[0m\u001b[0m\n\u001b[1;32m      3\u001b[0m \u001b[0mprint\u001b[0m\u001b[0;34m(\u001b[0m\u001b[0;34m\"Hello python\"\u001b[0m\u001b[0;34m)\u001b[0m\u001b[0;34m\u001b[0m\u001b[0;34m\u001b[0m\u001b[0m\n\u001b[0;32m----> 4\u001b[0;31m \u001b[0mPrint\u001b[0m\u001b[0;34m(\u001b[0m\u001b[0;34m\"Hello Intellipaat\"\u001b[0m\u001b[0;34m)\u001b[0m\u001b[0;34m\u001b[0m\u001b[0;34m\u001b[0m\u001b[0m\n\u001b[0m\u001b[1;32m      5\u001b[0m \u001b[0mprint\u001b[0m\u001b[0;34m(\u001b[0m\u001b[0;34m\"Hello AI\"\u001b[0m\u001b[0;34m)\u001b[0m \u001b[0;31m#This will never execute.\u001b[0m\u001b[0;34m\u001b[0m\u001b[0;34m\u001b[0m\u001b[0m\n",
            "\u001b[0;31mNameError\u001b[0m: name 'Print' is not defined"
          ]
        }
      ]
    },
    {
      "cell_type": "code",
      "source": [
        "#Commnets in python\n",
        "# 1.Single line comment, using #\n",
        "# 2.Multiline comment, \"\"\" \"\"\"\n",
        "\"\"\" This is python\n",
        "I am workng in python\n",
        "I am having fun \"\"\"\n",
        "print(\"hello world\")\n"
      ],
      "metadata": {
        "colab": {
          "base_uri": "https://localhost:8080/"
        },
        "id": "iC_u8xdbYqkb",
        "outputId": "beb4765f-d04a-467b-a468-04b2f3cfd535"
      },
      "execution_count": null,
      "outputs": [
        {
          "output_type": "stream",
          "name": "stdout",
          "text": [
            "hello world\n"
          ]
        }
      ]
    },
    {
      "cell_type": "code",
      "source": [
        "print(\"hello world\")\n",
        "print(30+20)\n",
        "print(2*3)\n",
        "print(60/10)\n",
        "print('A')"
      ],
      "metadata": {
        "colab": {
          "base_uri": "https://localhost:8080/"
        },
        "id": "ncmKeeMXaF6i",
        "outputId": "6ab27417-17b3-4382-d1a2-54c4da13c915"
      },
      "execution_count": null,
      "outputs": [
        {
          "output_type": "stream",
          "name": "stdout",
          "text": [
            "hello world\n",
            "50\n",
            "6\n",
            "6.0\n",
            "A\n"
          ]
        }
      ]
    },
    {
      "cell_type": "markdown",
      "source": [
        "Variable\n",
        "\n",
        "Container that stores value"
      ],
      "metadata": {
        "id": "6OjPhGaCgHZA"
      }
    },
    {
      "cell_type": "code",
      "source": [
        "x = 10\n",
        "y = 20\n",
        "print(x+y)"
      ],
      "metadata": {
        "colab": {
          "base_uri": "https://localhost:8080/"
        },
        "id": "YuPHebjaf9C-",
        "outputId": "4e65c6fd-4bfa-4e61-c907-27b19fc926c9"
      },
      "execution_count": null,
      "outputs": [
        {
          "output_type": "stream",
          "name": "stdout",
          "text": [
            "30\n"
          ]
        }
      ]
    },
    {
      "cell_type": "code",
      "source": [
        "x = 10\n",
        "y = 20\n",
        "z = x + y\n",
        "print(z)"
      ],
      "metadata": {
        "colab": {
          "base_uri": "https://localhost:8080/"
        },
        "id": "4jW7Y_etggvG",
        "outputId": "456b98bc-0eeb-4df1-c448-3d1297a24ab1"
      },
      "execution_count": null,
      "outputs": [
        {
          "output_type": "stream",
          "name": "stdout",
          "text": [
            "30\n"
          ]
        }
      ]
    },
    {
      "cell_type": "code",
      "source": [
        "#Rules of declaring variable\n",
        "# Must start with a letter or _(underscore) (a,abc,swastik,aPPle,_abc,_aditya) ✅\n",
        "# Can't start with a number (8abc,9a,8b)❌\n",
        "# Case sensitive -> (a,A,abc,ABC) ✅\n",
        "# Can't use any keyword -> t print = 5 ❌\n",
        "# We cannot have space in between the letters, swastik mishra = 5❌\n",
        "# We cannot use any type of special character other than _ (abc*, a#b, a@c,@sde)❌"
      ],
      "metadata": {
        "id": "HQAp5JJ5gmad"
      },
      "execution_count": null,
      "outputs": []
    },
    {
      "cell_type": "code",
      "source": [
        "_ = 5\n",
        "print(_)"
      ],
      "metadata": {
        "colab": {
          "base_uri": "https://localhost:8080/"
        },
        "id": "90D5VeAnjC4o",
        "outputId": "82db2fe8-181f-4558-fd35-69814fa46699"
      },
      "execution_count": null,
      "outputs": [
        {
          "output_type": "stream",
          "name": "stdout",
          "text": [
            "5\n"
          ]
        }
      ]
    },
    {
      "cell_type": "code",
      "source": [
        "_8 = 5\n",
        "print(_8)"
      ],
      "metadata": {
        "colab": {
          "base_uri": "https://localhost:8080/"
        },
        "id": "E2bjRMn0jKnr",
        "outputId": "b6e154db-04ac-4694-945f-f8f8ce59401c"
      },
      "execution_count": null,
      "outputs": [
        {
          "output_type": "stream",
          "name": "stdout",
          "text": [
            "5\n"
          ]
        }
      ]
    },
    {
      "cell_type": "code",
      "source": [
        "_Meena_kshi_ = 10\n",
        "print(_Meena_kshi_)"
      ],
      "metadata": {
        "colab": {
          "base_uri": "https://localhost:8080/"
        },
        "id": "jVhZMIPyjo6O",
        "outputId": "790f3a04-0ad9-4299-d0a3-7e375d32542c"
      },
      "execution_count": null,
      "outputs": [
        {
          "output_type": "stream",
          "name": "stdout",
          "text": [
            "10\n"
          ]
        }
      ]
    },
    {
      "cell_type": "code",
      "source": [
        "abc7 = 10\n",
        "print(abc7)"
      ],
      "metadata": {
        "colab": {
          "base_uri": "https://localhost:8080/"
        },
        "id": "-98pMTWtkPFt",
        "outputId": "66bc57c2-2d28-4265-a718-d721a77109b0"
      },
      "execution_count": null,
      "outputs": [
        {
          "output_type": "stream",
          "name": "stdout",
          "text": [
            "10\n"
          ]
        }
      ]
    },
    {
      "cell_type": "markdown",
      "source": [
        "**DataTypes**\n",
        "\n",
        "1. Integer\n",
        "2. Float\n",
        "3. String\n",
        "4. Boolean\n",
        "5. Complex number"
      ],
      "metadata": {
        "id": "bT5b1flpkb45"
      }
    },
    {
      "cell_type": "code",
      "source": [
        "#Integer -> any numeric value, wheter positive or negative\n",
        "a = 50\n",
        "print(type(a)) #type() is goint to tell about datatype of variable\n",
        "b = -100\n",
        "print(type(b))\n"
      ],
      "metadata": {
        "colab": {
          "base_uri": "https://localhost:8080/"
        },
        "id": "pzQzPSgakV2p",
        "outputId": "ad268bb9-68e5-4b05-99ea-1175d050cb38"
      },
      "execution_count": null,
      "outputs": [
        {
          "output_type": "stream",
          "name": "stdout",
          "text": [
            "<class 'int'>\n",
            "<class 'int'>\n"
          ]
        }
      ]
    },
    {
      "cell_type": "code",
      "source": [
        "#Float -> numeric value with decimal\n",
        "b = 50.0\n",
        "c = 43425.57920\n",
        "print(type(b))\n",
        "print(type(c))"
      ],
      "metadata": {
        "colab": {
          "base_uri": "https://localhost:8080/"
        },
        "id": "GDRNgBYVl7Mt",
        "outputId": "067b0764-5b3c-482d-9929-6bd1aaac56e6"
      },
      "execution_count": null,
      "outputs": [
        {
          "output_type": "stream",
          "name": "stdout",
          "text": [
            "<class 'float'>\n",
            "<class 'float'>\n"
          ]
        }
      ]
    },
    {
      "cell_type": "code",
      "source": [
        "#string -> string stores characters , words and sentences as well\n",
        "a = 'A'\n",
        "b = '@'\n",
        "c = \"Python\"\n",
        "d = \"This is python class. Swastik is teaching in this lecture\"\n",
        "print(type(a))\n",
        "print(type(b))\n",
        "print(type(c))\n",
        "print(type(d))"
      ],
      "metadata": {
        "colab": {
          "base_uri": "https://localhost:8080/"
        },
        "id": "6pi5YwP5mfav",
        "outputId": "e650ad0c-27b6-4627-9e76-300505f8f70f"
      },
      "execution_count": null,
      "outputs": [
        {
          "output_type": "stream",
          "name": "stdout",
          "text": [
            "<class 'str'>\n",
            "<class 'str'>\n",
            "<class 'str'>\n",
            "<class 'str'>\n"
          ]
        }
      ]
    },
    {
      "cell_type": "code",
      "source": [
        "a = '50'\n",
        "b = \"50.0\"\n",
        "print(type(a))\n",
        "print(type(b))"
      ],
      "metadata": {
        "colab": {
          "base_uri": "https://localhost:8080/"
        },
        "id": "nFwilTGanY3I",
        "outputId": "4c0aaa5c-bd85-44bc-8e9b-c303951ca8eb"
      },
      "execution_count": null,
      "outputs": [
        {
          "output_type": "stream",
          "name": "stdout",
          "text": [
            "<class 'str'>\n",
            "<class 'str'>\n"
          ]
        }
      ]
    },
    {
      "cell_type": "code",
      "source": [
        "#Boolean : True and False\n",
        "var1 = True\n",
        "var2 = False\n",
        "print(type(var1))\n",
        "print(type(var2))"
      ],
      "metadata": {
        "colab": {
          "base_uri": "https://localhost:8080/"
        },
        "id": "XVQ6HlkPpJMX",
        "outputId": "c3eeec5f-9a0a-4061-8748-1668b4f8a1d4"
      },
      "execution_count": null,
      "outputs": [
        {
          "output_type": "stream",
          "name": "stdout",
          "text": [
            "<class 'bool'>\n",
            "<class 'bool'>\n"
          ]
        }
      ]
    },
    {
      "cell_type": "code",
      "source": [
        "var3 = \"true\"\n",
        "print(type(var3))\n",
        "var4 = false\n",
        "print(type(var4))"
      ],
      "metadata": {
        "colab": {
          "base_uri": "https://localhost:8080/",
          "height": 211
        },
        "id": "D6LhnMqTqLWV",
        "outputId": "118a28b5-42c4-4223-dbd0-6e399fc8817a"
      },
      "execution_count": null,
      "outputs": [
        {
          "output_type": "stream",
          "name": "stdout",
          "text": [
            "<class 'str'>\n"
          ]
        },
        {
          "output_type": "error",
          "ename": "NameError",
          "evalue": "name 'false' is not defined",
          "traceback": [
            "\u001b[0;31m---------------------------------------------------------------------------\u001b[0m",
            "\u001b[0;31mNameError\u001b[0m                                 Traceback (most recent call last)",
            "\u001b[0;32m/tmp/ipython-input-31-409801547.py\u001b[0m in \u001b[0;36m<cell line: 0>\u001b[0;34m()\u001b[0m\n\u001b[1;32m      1\u001b[0m \u001b[0mvar3\u001b[0m \u001b[0;34m=\u001b[0m \u001b[0;34m\"true\"\u001b[0m\u001b[0;34m\u001b[0m\u001b[0;34m\u001b[0m\u001b[0m\n\u001b[1;32m      2\u001b[0m \u001b[0mprint\u001b[0m\u001b[0;34m(\u001b[0m\u001b[0mtype\u001b[0m\u001b[0;34m(\u001b[0m\u001b[0mvar3\u001b[0m\u001b[0;34m)\u001b[0m\u001b[0;34m)\u001b[0m\u001b[0;34m\u001b[0m\u001b[0;34m\u001b[0m\u001b[0m\n\u001b[0;32m----> 3\u001b[0;31m \u001b[0mvar4\u001b[0m \u001b[0;34m=\u001b[0m \u001b[0mfalse\u001b[0m\u001b[0;34m\u001b[0m\u001b[0;34m\u001b[0m\u001b[0m\n\u001b[0m\u001b[1;32m      4\u001b[0m \u001b[0mprint\u001b[0m\u001b[0;34m(\u001b[0m\u001b[0mtype\u001b[0m\u001b[0;34m(\u001b[0m\u001b[0mvar4\u001b[0m\u001b[0;34m)\u001b[0m\u001b[0;34m)\u001b[0m\u001b[0;34m\u001b[0m\u001b[0;34m\u001b[0m\u001b[0m\n",
            "\u001b[0;31mNameError\u001b[0m: name 'false' is not defined"
          ]
        }
      ]
    },
    {
      "cell_type": "code",
      "source": [
        "#Complex Number : used to store imaginery number:\n",
        "x = 10 + 20j #j is a reserved keyword\n",
        "z = 10 + 20j\n",
        "y = 10 - 20j\n",
        "print(type(x))\n",
        "print(type(y))"
      ],
      "metadata": {
        "colab": {
          "base_uri": "https://localhost:8080/"
        },
        "id": "xawvg0lmq9nK",
        "outputId": "3aeaaac0-541b-4fbf-b9af-4a5f619bba55"
      },
      "execution_count": null,
      "outputs": [
        {
          "output_type": "stream",
          "name": "stdout",
          "text": [
            "<class 'complex'>\n",
            "<class 'complex'>\n"
          ]
        }
      ]
    },
    {
      "cell_type": "code",
      "source": [
        "z = 10j + 20\n",
        "print(type(z))\n",
        "print(z)"
      ],
      "metadata": {
        "colab": {
          "base_uri": "https://localhost:8080/"
        },
        "id": "YwRJzV--tDX8",
        "outputId": "badf0f74-4e60-4b88-90c0-ba7fe763c6a8"
      },
      "execution_count": null,
      "outputs": [
        {
          "output_type": "stream",
          "name": "stdout",
          "text": [
            "<class 'complex'>\n",
            "(20+10j)\n"
          ]
        }
      ]
    },
    {
      "cell_type": "markdown",
      "source": [
        "User Input\n"
      ],
      "metadata": {
        "id": "RHYFv03qJwAN"
      }
    },
    {
      "cell_type": "code",
      "source": [
        "name = \"Swastik\"\n",
        "age = 19\n",
        "print(name,age)"
      ],
      "metadata": {
        "colab": {
          "base_uri": "https://localhost:8080/"
        },
        "id": "AmmV0ycXJyJz",
        "outputId": "fe9fd075-3530-4d5a-dbe7-af22de2d3edd"
      },
      "execution_count": null,
      "outputs": [
        {
          "output_type": "stream",
          "name": "stdout",
          "text": [
            "Swastik 19\n"
          ]
        }
      ]
    },
    {
      "cell_type": "code",
      "source": [
        "name = input(\"Enter name: \")\n",
        "age = input(\"Enter age: \")\n",
        "print(name,age)\n",
        "print(type(age))"
      ],
      "metadata": {
        "colab": {
          "base_uri": "https://localhost:8080/"
        },
        "id": "ptQ8OgoHJ60K",
        "outputId": "08a0a9c2-652b-4caa-f732-5505c182db0e"
      },
      "execution_count": null,
      "outputs": [
        {
          "output_type": "stream",
          "name": "stdout",
          "text": [
            "Enter name: swastik\n",
            "Enter age: 4\n",
            "swastik 4\n",
            "<class 'str'>\n"
          ]
        }
      ]
    },
    {
      "cell_type": "code",
      "source": [
        "name = str(input(\"Enter name: \"))\n",
        "age = int(input(\"EnTER AGE: \"))\n",
        "print(type(name))\n",
        "print(type(age))"
      ],
      "metadata": {
        "colab": {
          "base_uri": "https://localhost:8080/"
        },
        "id": "fa1n_4vIKQVA",
        "outputId": "bfc3a486-5dc7-4a11-dbe5-87b3db90a3de"
      },
      "execution_count": null,
      "outputs": [
        {
          "output_type": "stream",
          "name": "stdout",
          "text": [
            "Enter name: Swastik\n",
            "EnTER AGE: 12\n",
            "<class 'str'>\n",
            "<class 'int'>\n"
          ]
        }
      ]
    },
    {
      "cell_type": "markdown",
      "source": [
        "Operators\n"
      ],
      "metadata": {
        "id": "a7jfOz-v_C7k"
      }
    },
    {
      "cell_type": "code",
      "source": [
        "a = 50\n",
        "b = 60\n",
        "print(a+b)"
      ],
      "metadata": {
        "id": "_fQk785etLAQ",
        "colab": {
          "base_uri": "https://localhost:8080/"
        },
        "outputId": "feb9c9c7-70cb-4b17-b0d9-7a573fedc680"
      },
      "execution_count": null,
      "outputs": [
        {
          "output_type": "stream",
          "name": "stdout",
          "text": [
            "110\n"
          ]
        }
      ]
    },
    {
      "cell_type": "code",
      "source": [
        "#Arithmetic Operator\n",
        "a = 65\n",
        "b = 6\n",
        "print(\"a+b = \", a+b) #addition operator\n",
        "print(\"a-b = \",a-b) #subtraction operator\n",
        "print(\"a*b = \",a*b) #multiplication operator\n",
        "print(\"a/b = \",a/b) #division operator alwways with float value\n",
        "print(\"a//b = \",a//b) # floor division -> INTEGER(QUOTIENT)\n",
        "print(\"a%b = \",a%b) #Modulous operator -> Integer (remainder)\n",
        "print(\"a**b = \",a**b) #calculate a operator b"
      ],
      "metadata": {
        "colab": {
          "base_uri": "https://localhost:8080/"
        },
        "id": "UHLHCMwWDcpV",
        "outputId": "82812f5d-2065-490a-b0cb-92a87103a6cc"
      },
      "execution_count": null,
      "outputs": [
        {
          "output_type": "stream",
          "name": "stdout",
          "text": [
            "a+b =  71\n",
            "a-b =  59\n",
            "a*b =  390\n",
            "a/b =  10.833333333333334\n",
            "a//b =  10\n",
            "a%b =  5\n",
            "a**b =  75418890625\n"
          ]
        }
      ]
    },
    {
      "cell_type": "code",
      "source": [
        "#True and False , True = 1, False = 0\n",
        "print(True + False) # 1 + 0 = 1\n",
        "print(True+True) # 1 + 1 = 2\n",
        "print(True - False) # 1 - 0 = 1\n",
        "print(True * False) # 1 * 0 = 0\n",
        "#print(True/False) # 1/0 Zero division error"
      ],
      "metadata": {
        "colab": {
          "base_uri": "https://localhost:8080/"
        },
        "id": "0VWnLZozEcCK",
        "outputId": "cd93fbd8-b31f-4112-c1ca-c97d41661ef0"
      },
      "execution_count": null,
      "outputs": [
        {
          "output_type": "stream",
          "name": "stdout",
          "text": [
            "1\n",
            "2\n",
            "1\n",
            "0\n"
          ]
        }
      ]
    },
    {
      "cell_type": "markdown",
      "source": [
        "Comparison Operator"
      ],
      "metadata": {
        "id": "iCi9FO0pLByQ"
      }
    },
    {
      "cell_type": "code",
      "source": [
        "num1 = int(input(\"Enter first number: \"))\n",
        "num2 = int(input(\"Enter second number: \"))\n",
        "print(\"num1 > num2 :\",num1 > num2) #Greater than\n",
        "print(\"num1 < num2:\",num1 < num2) #Less than\n",
        "print(\"num1 == num2:\",num1 == num2) #equal to\n",
        "print(\"num1 != num2:\",num1 != num2) #Not equal to\n",
        "print(\"num1 >= num2:\",num1 >= num2) #Greater than or equal to\n",
        "print(\"num1 <= num2:\",num1 <= num2) #Less than or equal to"
      ],
      "metadata": {
        "colab": {
          "base_uri": "https://localhost:8080/"
        },
        "id": "kFaC_Ld3H-aJ",
        "outputId": "ba41cdf3-cc3f-4f1c-bfe5-77b29ffb43cb"
      },
      "execution_count": null,
      "outputs": [
        {
          "output_type": "stream",
          "name": "stdout",
          "text": [
            "Enter first number: 23\n",
            "Enter second number: 29\n",
            "num1 > num2 : False\n",
            "num1 < num2: True\n",
            "num1 == num2: False\n",
            "num1 != num2: True\n",
            "num1 >= num2: False\n",
            "num1 <= num2: True\n"
          ]
        }
      ]
    },
    {
      "cell_type": "markdown",
      "source": [
        "LOGICAL OPERATOR"
      ],
      "metadata": {
        "id": "xdgAoWVjO5sP"
      }
    },
    {
      "cell_type": "code",
      "source": [
        "#and\n",
        "#or\n",
        "#not\n",
        "# A  B   A and B      A or B\n",
        "# T  T      T           T\n",
        "# T  F      F           T\n",
        "# F  T      F           T\n",
        "# F  F      F           F\n",
        "#not\n",
        "# A     not A\n",
        "# T      F\n",
        "# F      T"
      ],
      "metadata": {
        "id": "rnL2vt6OLitb"
      },
      "execution_count": null,
      "outputs": []
    },
    {
      "cell_type": "code",
      "source": [
        "print(True and False)\n",
        "print(True and True)\n",
        "print(True or False)\n",
        "print(not True)"
      ],
      "metadata": {
        "colab": {
          "base_uri": "https://localhost:8080/"
        },
        "id": "GWllttZbSgXR",
        "outputId": "b7744a46-a1e0-4340-fb84-66cd2babd2f7"
      },
      "execution_count": null,
      "outputs": [
        {
          "output_type": "stream",
          "name": "stdout",
          "text": [
            "False\n",
            "True\n",
            "True\n",
            "False\n"
          ]
        }
      ]
    },
    {
      "cell_type": "markdown",
      "source": [
        "# Assignment Operator"
      ],
      "metadata": {
        "id": "OVueUsHmTbpb"
      }
    },
    {
      "cell_type": "code",
      "source": [
        "a = 30\n",
        "# a is assigned with 30\n",
        "print(a)"
      ],
      "metadata": {
        "colab": {
          "base_uri": "https://localhost:8080/"
        },
        "id": "VE-wV8c4SrPK",
        "outputId": "5232a727-7450-430f-e6c7-eda679390a69"
      },
      "execution_count": null,
      "outputs": [
        {
          "output_type": "stream",
          "name": "stdout",
          "text": [
            "30\n"
          ]
        }
      ]
    },
    {
      "cell_type": "code",
      "source": [
        "#a = a + 40\n",
        "a += 40\n",
        "print(a)"
      ],
      "metadata": {
        "colab": {
          "base_uri": "https://localhost:8080/"
        },
        "id": "YTE8j8WMTuMw",
        "outputId": "2af76af3-1560-4499-f9af-45910a709fdf"
      },
      "execution_count": null,
      "outputs": [
        {
          "output_type": "stream",
          "name": "stdout",
          "text": [
            "70\n"
          ]
        }
      ]
    },
    {
      "cell_type": "code",
      "source": [
        "a -= 10\n",
        "print(a)"
      ],
      "metadata": {
        "colab": {
          "base_uri": "https://localhost:8080/"
        },
        "id": "3yGaPf46UYus",
        "outputId": "a32687d6-3cd0-438b-f064-ecaa1dd475ad"
      },
      "execution_count": null,
      "outputs": [
        {
          "output_type": "stream",
          "name": "stdout",
          "text": [
            "60\n"
          ]
        }
      ]
    },
    {
      "cell_type": "code",
      "source": [
        "a *= 2\n",
        "print(a)"
      ],
      "metadata": {
        "colab": {
          "base_uri": "https://localhost:8080/"
        },
        "id": "CF0fjdFsVoLf",
        "outputId": "3fa067ba-22cb-417b-de12-4e1803c35ad7"
      },
      "execution_count": null,
      "outputs": [
        {
          "output_type": "stream",
          "name": "stdout",
          "text": [
            "120\n"
          ]
        }
      ]
    },
    {
      "cell_type": "code",
      "source": [
        "a /= 3\n",
        "print(a)"
      ],
      "metadata": {
        "colab": {
          "base_uri": "https://localhost:8080/"
        },
        "id": "siCkHQ7XVthi",
        "outputId": "8b7068be-8bcd-4832-8a46-ef6b2e31aadf"
      },
      "execution_count": null,
      "outputs": [
        {
          "output_type": "stream",
          "name": "stdout",
          "text": [
            "40.0\n"
          ]
        }
      ]
    },
    {
      "cell_type": "markdown",
      "source": [
        "Indentation"
      ],
      "metadata": {
        "id": "o3ERPG3CcY9-"
      }
    },
    {
      "cell_type": "code",
      "source": [
        "print(\"Hello wolrd\")\n",
        "print(\"Hello\")\n",
        "  print(\"Swastik\")"
      ],
      "metadata": {
        "colab": {
          "base_uri": "https://localhost:8080/",
          "height": 106
        },
        "id": "vaADu_VmV5ET",
        "outputId": "6f77257d-5956-4e32-b583-80e36f741611"
      },
      "execution_count": null,
      "outputs": [
        {
          "output_type": "error",
          "ename": "IndentationError",
          "evalue": "unexpected indent (ipython-input-63-2161733028.py, line 3)",
          "traceback": [
            "\u001b[0;36m  File \u001b[0;32m\"/tmp/ipython-input-63-2161733028.py\"\u001b[0;36m, line \u001b[0;32m3\u001b[0m\n\u001b[0;31m    print(\"Swastik\")\u001b[0m\n\u001b[0m    ^\u001b[0m\n\u001b[0;31mIndentationError\u001b[0m\u001b[0;31m:\u001b[0m unexpected indent\n"
          ]
        }
      ]
    },
    {
      "cell_type": "code",
      "source": [
        "#Condtional statement\n",
        "a = int(input(\"enter first value: \"))\n",
        "b = int(input(\"enter second value: \"))\n",
        "if a > b:\n",
        "  print(\"a is greater than b\")\n",
        "elif a < b:\n",
        "  print(\"b is greater than a\")\n",
        "else:\n",
        "  print(\"a is equal to b\")\n"
      ],
      "metadata": {
        "colab": {
          "base_uri": "https://localhost:8080/"
        },
        "id": "mXi5eM4WclbT",
        "outputId": "56994345-2b40-4863-d917-8abb1b263315"
      },
      "execution_count": null,
      "outputs": [
        {
          "output_type": "stream",
          "name": "stdout",
          "text": [
            "enter first value: 43\n",
            "enter second value: 23\n",
            "a is greater than b\n"
          ]
        }
      ]
    },
    {
      "cell_type": "code",
      "source": [
        "# we want to check for even or odd number using conditional statement\n",
        "# n  %  2 == 0  -> even\n",
        "# n  %  2  !=0 -> odd #10:21\n",
        "n = int ( input (\"enter value : \"))\n",
        "if n % 2 == 0:\n",
        "    print (\"given no. is even: \")\n",
        "else:\n",
        "    print (\"given no. is odd: \")"
      ],
      "metadata": {
        "colab": {
          "base_uri": "https://localhost:8080/"
        },
        "id": "Ic5etNMIdTIC",
        "outputId": "febcfd5c-a45a-44de-c6e0-bb558f921183"
      },
      "execution_count": null,
      "outputs": [
        {
          "output_type": "stream",
          "name": "stdout",
          "text": [
            "enter value : 10\n",
            "given no. is even: \n"
          ]
        }
      ]
    },
    {
      "cell_type": "code",
      "source": [
        "#We can not right elif and else without it\n",
        "if n>0:\n",
        "  print(\"positive\")\n",
        "# We can have if without else and elif."
      ],
      "metadata": {
        "colab": {
          "base_uri": "https://localhost:8080/"
        },
        "id": "PSOrgI2ZgdQz",
        "outputId": "e0a227ad-a1aa-4892-8d30-c5a847f9a831"
      },
      "execution_count": null,
      "outputs": [
        {
          "output_type": "stream",
          "name": "stdout",
          "text": [
            "positive\n"
          ]
        }
      ]
    },
    {
      "cell_type": "code",
      "source": [
        "# Write a programe to check whether a person is eligible to get driving licence or not\n",
        "# input        output\n",
        "# 14           not eligible\n",
        "# 16           learning\n",
        "# 18            eligible\n",
        "# p < 16  -> not eligible\n",
        "# p  >= 16 and p<18 -> learning\n",
        "# p >= 18 -> eligible"
      ],
      "metadata": {
        "id": "rzs0TkX8hKMe"
      },
      "execution_count": null,
      "outputs": []
    },
    {
      "cell_type": "markdown",
      "source": [
        "LOOPS\n",
        "\n",
        "A loop is a control statement that allow a block of code to be executed repeatedly\n",
        "\n",
        "1. while loop\n",
        "2. For loop\n",
        "\n",
        "While loop : Works on condition that allow a block of code to run till the condition is true."
      ],
      "metadata": {
        "id": "BMm35oW5iJDh"
      }
    },
    {
      "cell_type": "code",
      "source": [
        "# print number from 1---100\n",
        "n = 1\n",
        "while n<= 100:\n",
        "  print(n)\n",
        "  n += 1"
      ],
      "metadata": {
        "colab": {
          "base_uri": "https://localhost:8080/"
        },
        "id": "8KMwXukyhx9S",
        "outputId": "e5a8ae74-f523-4909-83eb-e3fe4a7869b8"
      },
      "execution_count": null,
      "outputs": [
        {
          "output_type": "stream",
          "name": "stdout",
          "text": [
            "1\n",
            "2\n",
            "3\n",
            "4\n",
            "5\n",
            "6\n",
            "7\n",
            "8\n",
            "9\n",
            "10\n",
            "11\n",
            "12\n",
            "13\n",
            "14\n",
            "15\n",
            "16\n",
            "17\n",
            "18\n",
            "19\n",
            "20\n",
            "21\n",
            "22\n",
            "23\n",
            "24\n",
            "25\n",
            "26\n",
            "27\n",
            "28\n",
            "29\n",
            "30\n",
            "31\n",
            "32\n",
            "33\n",
            "34\n",
            "35\n",
            "36\n",
            "37\n",
            "38\n",
            "39\n",
            "40\n",
            "41\n",
            "42\n",
            "43\n",
            "44\n",
            "45\n",
            "46\n",
            "47\n",
            "48\n",
            "49\n",
            "50\n",
            "51\n",
            "52\n",
            "53\n",
            "54\n",
            "55\n",
            "56\n",
            "57\n",
            "58\n",
            "59\n",
            "60\n",
            "61\n",
            "62\n",
            "63\n",
            "64\n",
            "65\n",
            "66\n",
            "67\n",
            "68\n",
            "69\n",
            "70\n",
            "71\n",
            "72\n",
            "73\n",
            "74\n",
            "75\n",
            "76\n",
            "77\n",
            "78\n",
            "79\n",
            "80\n",
            "81\n",
            "82\n",
            "83\n",
            "84\n",
            "85\n",
            "86\n",
            "87\n",
            "88\n",
            "89\n",
            "90\n",
            "91\n",
            "92\n",
            "93\n",
            "94\n",
            "95\n",
            "96\n",
            "97\n",
            "98\n",
            "99\n",
            "100\n"
          ]
        }
      ]
    },
    {
      "cell_type": "code",
      "source": [
        "n = 0\n",
        "while n<=10:\n",
        "  print(\"Hello to class \",n)\n",
        "  n+=3\n",
        "print(\"Loop over\")"
      ],
      "metadata": {
        "colab": {
          "base_uri": "https://localhost:8080/"
        },
        "id": "Dfm-cKVCkJd1",
        "outputId": "9f1397a6-8df6-49ad-ece0-ab5ffcf8aa9f"
      },
      "execution_count": null,
      "outputs": [
        {
          "output_type": "stream",
          "name": "stdout",
          "text": [
            "Hello to class  0\n",
            "Hello to class  3\n",
            "Hello to class  6\n",
            "Hello to class  9\n",
            "Loop over\n"
          ]
        }
      ]
    },
    {
      "cell_type": "markdown",
      "source": [
        "For Loops"
      ],
      "metadata": {
        "id": "4F0ay1bLl6Bb"
      }
    },
    {
      "cell_type": "code",
      "source": [
        "n = 150\n",
        "while n>=1:\n",
        "  print (n,end=\"_\")\n",
        "  n -= 1"
      ],
      "metadata": {
        "colab": {
          "base_uri": "https://localhost:8080/"
        },
        "id": "RU6zL5ymk7fc",
        "outputId": "28764c35-2a7f-4f8f-c2ea-d323aa88e7b3"
      },
      "execution_count": null,
      "outputs": [
        {
          "output_type": "stream",
          "name": "stdout",
          "text": [
            "150_149_148_147_146_145_144_143_142_141_140_139_138_137_136_135_134_133_132_131_130_129_128_127_126_125_124_123_122_121_120_119_118_117_116_115_114_113_112_111_110_109_108_107_106_105_104_103_102_101_100_99_98_97_96_95_94_93_92_91_90_89_88_87_86_85_84_83_82_81_80_79_78_77_76_75_74_73_72_71_70_69_68_67_66_65_64_63_62_61_60_59_58_57_56_55_54_53_52_51_50_49_48_47_46_45_44_43_42_41_40_39_38_37_36_35_34_33_32_31_30_29_28_27_26_25_24_23_22_21_20_19_18_17_16_15_14_13_12_11_10_9_8_7_6_5_4_3_2_1_"
          ]
        }
      ]
    },
    {
      "cell_type": "code",
      "source": [
        "n = 1\n",
        "while n<=150:\n",
        "  print(n,end=\"_\")\n",
        "  n+=1"
      ],
      "metadata": {
        "colab": {
          "base_uri": "https://localhost:8080/"
        },
        "id": "CdW0aDhkoWgp",
        "outputId": "1cb13ba1-3705-4a8b-c93e-7868e05eeb63"
      },
      "execution_count": null,
      "outputs": [
        {
          "output_type": "stream",
          "name": "stdout",
          "text": [
            "1_2_3_4_5_6_7_8_9_10_11_12_13_14_15_16_17_18_19_20_21_22_23_24_25_26_27_28_29_30_31_32_33_34_35_36_37_38_39_40_41_42_43_44_45_46_47_48_49_50_51_52_53_54_55_56_57_58_59_60_61_62_63_64_65_66_67_68_69_70_71_72_73_74_75_76_77_78_79_80_81_82_83_84_85_86_87_88_89_90_91_92_93_94_95_96_97_98_99_100_101_102_103_104_105_106_107_108_109_110_111_112_113_114_115_116_117_118_119_120_121_122_123_124_125_126_127_128_129_130_131_132_133_134_135_136_137_138_139_140_141_142_143_144_145_146_147_148_149_150_"
          ]
        }
      ]
    },
    {
      "cell_type": "markdown",
      "source": [],
      "metadata": {
        "id": "aoH8wJlRH0Jd"
      }
    },
    {
      "cell_type": "code",
      "source": [
        "# for -> range of loop\n",
        "# range() -> resposible for the length of loop -\n",
        "# range(n) -> 0 - n-1 ->  stepsize = 1\n",
        "# range(2,n) -> 2 - n-1 -> stepsize = 1\n",
        "# range(3,n,k) -> 3 - n-1 with k\n",
        "for nimesh in range(10):\n",
        "  print(nimesh)\n",
        "print(\"Loop Over\")\n",
        "for i in range(12,20):\n",
        "  print(i)\n",
        "print(\"Loop over\")\n",
        "for i in range(3,15,3):\n",
        "  print(i)"
      ],
      "metadata": {
        "id": "_raV3CBgozy6",
        "colab": {
          "base_uri": "https://localhost:8080/"
        },
        "outputId": "e381ecb8-7853-4e1c-9301-1759979345ae"
      },
      "execution_count": null,
      "outputs": [
        {
          "output_type": "stream",
          "name": "stdout",
          "text": [
            "0\n",
            "1\n",
            "2\n",
            "3\n",
            "4\n",
            "5\n",
            "6\n",
            "7\n",
            "8\n",
            "9\n",
            "Loop Over\n",
            "12\n",
            "13\n",
            "14\n",
            "15\n",
            "16\n",
            "17\n",
            "18\n",
            "19\n",
            "Loop over\n",
            "3\n",
            "6\n",
            "9\n",
            "12\n"
          ]
        }
      ]
    },
    {
      "cell_type": "code",
      "source": [
        "# find sum of all numbers from 2 - 11\n",
        "sum = 0\n",
        "for i in range(2,11):\n",
        "  sum += i\n",
        "print(sum)\n"
      ],
      "metadata": {
        "colab": {
          "base_uri": "https://localhost:8080/"
        },
        "id": "446SWsNhMRj5",
        "outputId": "89592672-ca30-4d4a-af04-843a79d5bd7a"
      },
      "execution_count": null,
      "outputs": [
        {
          "output_type": "stream",
          "name": "stdout",
          "text": [
            "65\n"
          ]
        }
      ]
    },
    {
      "cell_type": "code",
      "source": [
        "#Print product of number between 3 - 8\n",
        "prod = 1\n",
        "for j in range(3,9):\n",
        "  prod *= j\n",
        "print(prod)\n"
      ],
      "metadata": {
        "colab": {
          "base_uri": "https://localhost:8080/"
        },
        "id": "5u-7PjCaSHR6",
        "outputId": "cbf7bc62-58df-407a-8076-8be3db803482"
      },
      "execution_count": null,
      "outputs": [
        {
          "output_type": "stream",
          "name": "stdout",
          "text": [
            "20160\n"
          ]
        }
      ]
    },
    {
      "cell_type": "code",
      "source": [
        "for i in range(10,1,1):\n",
        "  print(i)"
      ],
      "metadata": {
        "id": "71hTKRxzTRTU"
      },
      "execution_count": null,
      "outputs": []
    },
    {
      "cell_type": "code",
      "source": [
        "# 1---10 -> +ve\n",
        "# 10---1 -> -ve"
      ],
      "metadata": {
        "id": "w4OdYDEIUUEH"
      },
      "execution_count": null,
      "outputs": []
    },
    {
      "cell_type": "markdown",
      "source": [
        "Break and continue"
      ],
      "metadata": {
        "id": "0pkgwhdPU_09"
      }
    },
    {
      "cell_type": "code",
      "source": [
        "# I want to print from 1 - 10 and i want to skip 4 and 6\n",
        "for i in range(1,11):\n",
        "  if i==4 or i==6:\n",
        "    continue\n",
        "  print(i)"
      ],
      "metadata": {
        "colab": {
          "base_uri": "https://localhost:8080/"
        },
        "id": "4vFE5o0SU_ll",
        "outputId": "c2b1b18c-90a6-47f3-8711-b954b3923b72"
      },
      "execution_count": null,
      "outputs": [
        {
          "output_type": "stream",
          "name": "stdout",
          "text": [
            "1\n",
            "2\n",
            "3\n",
            "5\n",
            "7\n",
            "8\n",
            "9\n",
            "10\n"
          ]
        }
      ]
    },
    {
      "cell_type": "code",
      "source": [
        "# Print from 1-10 and stop the loop at 5\n",
        "for i in range(1,11):\n",
        "  print(i)\n",
        "  if i==5:\n",
        "    break"
      ],
      "metadata": {
        "colab": {
          "base_uri": "https://localhost:8080/"
        },
        "id": "LgduxQeuVfs2",
        "outputId": "45c46492-758e-48cd-d3a2-1cc51c0a6348"
      },
      "execution_count": null,
      "outputs": [
        {
          "output_type": "stream",
          "name": "stdout",
          "text": [
            "1\n",
            "2\n",
            "3\n",
            "4\n",
            "5\n"
          ]
        }
      ]
    },
    {
      "cell_type": "code",
      "source": [
        "#Write a code to check for prime number #9:09\n",
        "n = int(input(\"Enter no. : \"))\n",
        "if n<=1:\n",
        "  print(\"Not prime\")\n",
        "for i in range(2,n):\n",
        "  if n%i==0:\n",
        "    print(\"Not Prime number\")\n",
        "    break\n",
        "else:\n",
        "  print(\"Prime number\")"
      ],
      "metadata": {
        "colab": {
          "base_uri": "https://localhost:8080/"
        },
        "id": "cyOPJ9JNXH1B",
        "outputId": "a74f94a3-989a-49cc-9b25-859817257a94"
      },
      "execution_count": null,
      "outputs": [
        {
          "output_type": "stream",
          "name": "stdout",
          "text": [
            "Enter no. : 12\n",
            "Not Prime number\n"
          ]
        }
      ]
    },
    {
      "cell_type": "markdown",
      "source": [
        "Sequential Datatypes\n",
        "\n",
        "1.List\n",
        "\n",
        "2.Tuple\n",
        "\n",
        "3.String"
      ],
      "metadata": {
        "id": "Bbxp_eX3kAyJ"
      }
    },
    {
      "cell_type": "markdown",
      "source": [
        "1.List\n",
        "\n",
        "Collection of elements that store value in a sequential Order\n",
        "\n",
        "They are Mutable\n",
        "\n",
        "They contains duplicates\n",
        "\n",
        "They can have multiple datatypes.\n"
      ],
      "metadata": {
        "id": "W6s0Lik7kQaQ"
      }
    },
    {
      "cell_type": "code",
      "source": [
        "a = [1,2,3,4,5,6]\n",
        "print(a)\n",
        "print(type(a))\n",
        "print(a[2])\n",
        "a[2] = 100 #Mutable\n",
        "print(a)"
      ],
      "metadata": {
        "colab": {
          "base_uri": "https://localhost:8080/"
        },
        "id": "jWzvDsq6boYy",
        "outputId": "60c6fa1a-528a-44fa-b0f6-6e84296467d7"
      },
      "execution_count": null,
      "outputs": [
        {
          "output_type": "stream",
          "name": "stdout",
          "text": [
            "[1, 2, 3, 4, 5, 6]\n",
            "<class 'list'>\n",
            "3\n",
            "[1, 2, 100, 4, 5, 6]\n"
          ]
        }
      ]
    },
    {
      "cell_type": "markdown",
      "source": [
        "![image.png](data:image/png;base64,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)"
      ],
      "metadata": {
        "id": "_GPEGwW7nU-e"
      }
    },
    {
      "cell_type": "code",
      "source": [
        "#Indexing\n",
        "sport = [\"Football\",\"Badminton\",\"Cricket\",\"Hockey\",\"BasketBall\",\"Tennis\",\"Kabaddy\"]\n",
        "print(sport[0])\n",
        "print(sport[4])\n",
        "print(sport[6])\n",
        "# print(sport[7]) index out of range error\n",
        "print(sport[-1])\n",
        "print(sport[-6])\n",
        "print(sport[-7])"
      ],
      "metadata": {
        "colab": {
          "base_uri": "https://localhost:8080/"
        },
        "id": "rRRW3vk8kph_",
        "outputId": "884be852-f88d-42be-a679-df95fc6fec49"
      },
      "execution_count": null,
      "outputs": [
        {
          "output_type": "stream",
          "name": "stdout",
          "text": [
            "Football\n",
            "BasketBall\n",
            "Kabaddy\n",
            "Kabaddy\n",
            "Badminton\n",
            "Football\n"
          ]
        }
      ]
    },
    {
      "cell_type": "code",
      "source": [
        "n = len(sport)\n",
        "print(n)\n",
        "print(sport[n-3])"
      ],
      "metadata": {
        "colab": {
          "base_uri": "https://localhost:8080/"
        },
        "id": "511pksxNlhGn",
        "outputId": "19cd8338-ebcf-4a38-9dad-5dfe75765d79"
      },
      "execution_count": null,
      "outputs": [
        {
          "output_type": "stream",
          "name": "stdout",
          "text": [
            "7\n",
            "BasketBall\n"
          ]
        }
      ]
    },
    {
      "cell_type": "markdown",
      "source": [
        "Slicing"
      ],
      "metadata": {
        "id": "i5V_ORgEnuas"
      }
    },
    {
      "cell_type": "code",
      "source": [
        "sport = [\"Football\",\"Badminton\",\"Cricket\",\"Hockey\",\"BasketBall\",\"Tennis\",\"Kabaddy\"]\n",
        "# Football -- Hockey\n",
        "# sport[startindex : endindex] - > start - end-1\n",
        "print(sport[0:4])\n"
      ],
      "metadata": {
        "colab": {
          "base_uri": "https://localhost:8080/"
        },
        "id": "BEaReQO5nfXF",
        "outputId": "d4beb480-d7dc-413c-9f2e-c91e00a50960"
      },
      "execution_count": null,
      "outputs": [
        {
          "output_type": "stream",
          "name": "stdout",
          "text": [
            "['Football', 'Badminton', 'Cricket', 'Hockey']\n"
          ]
        }
      ]
    },
    {
      "cell_type": "code",
      "source": [
        "#If we leave startendex and only pass end index\n",
        "print(sport[:5]) # start from 0 and go till 4"
      ],
      "metadata": {
        "colab": {
          "base_uri": "https://localhost:8080/"
        },
        "id": "cbj1B_buoQJk",
        "outputId": "62738f47-e63d-4c8c-b6b2-b7f29639396d"
      },
      "execution_count": null,
      "outputs": [
        {
          "output_type": "stream",
          "name": "stdout",
          "text": [
            "['Football', 'Badminton', 'Cricket', 'Hockey', 'BasketBall']\n"
          ]
        }
      ]
    },
    {
      "cell_type": "code",
      "source": [
        "#What if we leave end index\n",
        "print(sport[1:])"
      ],
      "metadata": {
        "colab": {
          "base_uri": "https://localhost:8080/"
        },
        "id": "SKbiEfxFpGCe",
        "outputId": "6361271e-73c6-4975-8459-3b93a9c4af0d"
      },
      "execution_count": null,
      "outputs": [
        {
          "output_type": "stream",
          "name": "stdout",
          "text": [
            "['Badminton', 'Cricket', 'Hockey', 'BasketBall', 'Tennis', 'Kabaddy']\n"
          ]
        }
      ]
    },
    {
      "cell_type": "code",
      "source": [
        "print(sport[0:])"
      ],
      "metadata": {
        "colab": {
          "base_uri": "https://localhost:8080/"
        },
        "id": "8B-tdjhopl_i",
        "outputId": "57cf944c-cc20-46ab-dbd7-53df95d6ce0b"
      },
      "execution_count": null,
      "outputs": [
        {
          "output_type": "stream",
          "name": "stdout",
          "text": [
            "['Football', 'Badminton', 'Cricket', 'Hockey', 'BasketBall', 'Tennis', 'Kabaddy']\n"
          ]
        }
      ]
    },
    {
      "cell_type": "code",
      "source": [
        "#IF we do not pass both\n",
        "print(sport[:])"
      ],
      "metadata": {
        "colab": {
          "base_uri": "https://localhost:8080/"
        },
        "id": "h9L71qrJpwZK",
        "outputId": "6713af8d-1090-4aa5-e2c9-81ef2f67f9ac"
      },
      "execution_count": null,
      "outputs": [
        {
          "output_type": "stream",
          "name": "stdout",
          "text": [
            "['Football', 'Badminton', 'Cricket', 'Hockey', 'BasketBall', 'Tennis', 'Kabaddy']\n"
          ]
        }
      ]
    },
    {
      "cell_type": "code",
      "source": [
        "print(sport[0:7:2]) # startindex : endindex : stepsize"
      ],
      "metadata": {
        "colab": {
          "base_uri": "https://localhost:8080/"
        },
        "id": "0Lot6HJpp5Kx",
        "outputId": "9f318fc2-5eae-4c59-ac47-738fb7b07c73"
      },
      "execution_count": null,
      "outputs": [
        {
          "output_type": "stream",
          "name": "stdout",
          "text": [
            "['Football', 'Cricket', 'BasketBall', 'Kabaddy']\n"
          ]
        }
      ]
    },
    {
      "cell_type": "code",
      "source": [
        "print(sport)"
      ],
      "metadata": {
        "colab": {
          "base_uri": "https://localhost:8080/"
        },
        "id": "jtHFvoxfqOSe",
        "outputId": "8afd2c0f-397e-4af5-e7c3-730312d39608"
      },
      "execution_count": null,
      "outputs": [
        {
          "output_type": "stream",
          "name": "stdout",
          "text": [
            "['Football', 'Badminton', 'Cricket', 'Hockey', 'BasketBall', 'Tennis', 'Kabaddy']\n"
          ]
        }
      ]
    },
    {
      "cell_type": "code",
      "source": [
        "print(sport[2::3])"
      ],
      "metadata": {
        "colab": {
          "base_uri": "https://localhost:8080/"
        },
        "id": "9lJo9b4aqiE3",
        "outputId": "5f836f10-7c95-41f3-aa5b-0bf02baa7a9a"
      },
      "execution_count": null,
      "outputs": [
        {
          "output_type": "stream",
          "name": "stdout",
          "text": [
            "['Cricket', 'Tennis']\n"
          ]
        }
      ]
    },
    {
      "cell_type": "code",
      "source": [
        "print(sport[-1:])"
      ],
      "metadata": {
        "colab": {
          "base_uri": "https://localhost:8080/"
        },
        "id": "rI09uMSgqpmB",
        "outputId": "4fce975c-bcdc-4f1b-b591-29f648b49fe9"
      },
      "execution_count": null,
      "outputs": [
        {
          "output_type": "stream",
          "name": "stdout",
          "text": [
            "['Kabaddy']\n"
          ]
        }
      ]
    },
    {
      "cell_type": "code",
      "source": [
        "print(sport[-6:])"
      ],
      "metadata": {
        "colab": {
          "base_uri": "https://localhost:8080/"
        },
        "id": "Gl0SIu-fr1_x",
        "outputId": "b6a92d77-0eed-444c-bf84-08295f3011a8"
      },
      "execution_count": null,
      "outputs": [
        {
          "output_type": "stream",
          "name": "stdout",
          "text": [
            "['Badminton', 'Cricket', 'Hockey', 'BasketBall', 'Tennis', 'Kabaddy']\n"
          ]
        }
      ]
    },
    {
      "cell_type": "code",
      "source": [
        "print(sport[-2::-1])"
      ],
      "metadata": {
        "colab": {
          "base_uri": "https://localhost:8080/"
        },
        "id": "oXDfnjxXsT3q",
        "outputId": "799613b2-81c6-4bec-bbf0-097d8bd00b6f"
      },
      "execution_count": null,
      "outputs": [
        {
          "output_type": "stream",
          "name": "stdout",
          "text": [
            "['Tennis', 'BasketBall', 'Hockey', 'Cricket', 'Badminton', 'Football']\n"
          ]
        }
      ]
    },
    {
      "cell_type": "code",
      "source": [
        "print(sport[::-1])"
      ],
      "metadata": {
        "colab": {
          "base_uri": "https://localhost:8080/"
        },
        "id": "9RXK4jpWsyf6",
        "outputId": "61a451c7-e2cf-4f4f-93e4-cd9dce239712"
      },
      "execution_count": null,
      "outputs": [
        {
          "output_type": "stream",
          "name": "stdout",
          "text": [
            "['Kabaddy', 'Tennis', 'BasketBall', 'Hockey', 'Cricket', 'Badminton', 'Football']\n"
          ]
        }
      ]
    },
    {
      "cell_type": "code",
      "source": [
        "print(sport)"
      ],
      "metadata": {
        "colab": {
          "base_uri": "https://localhost:8080/"
        },
        "id": "TcbpldObtHjc",
        "outputId": "0de88300-65f8-4ee6-b024-b8acba2f927b"
      },
      "execution_count": null,
      "outputs": [
        {
          "output_type": "stream",
          "name": "stdout",
          "text": [
            "['Football', 'Badminton', 'Cricket', 'Hockey', 'BasketBall', 'Tennis', 'Kabaddy']\n"
          ]
        }
      ]
    },
    {
      "cell_type": "code",
      "source": [
        "revsport = sport[::-1] #used for reversing the list\n",
        "print(revsport)"
      ],
      "metadata": {
        "colab": {
          "base_uri": "https://localhost:8080/"
        },
        "id": "M8Pwu8pEtL94",
        "outputId": "bbb9bd46-ea3a-49c6-f6e2-a9ca44e69696"
      },
      "execution_count": null,
      "outputs": [
        {
          "output_type": "stream",
          "name": "stdout",
          "text": [
            "['Kabaddy', 'Tennis', 'BasketBall', 'Hockey', 'Cricket', 'Badminton', 'Football']\n"
          ]
        }
      ]
    },
    {
      "cell_type": "code",
      "source": [
        "#Adding value in list\n",
        "#append function\n",
        "sport.append(\"Baseball\")\n",
        "print(sport)"
      ],
      "metadata": {
        "colab": {
          "base_uri": "https://localhost:8080/"
        },
        "id": "Daq1MUSotvtS",
        "outputId": "648a4558-76fe-494e-96dd-f16f94042f77"
      },
      "execution_count": null,
      "outputs": [
        {
          "output_type": "stream",
          "name": "stdout",
          "text": [
            "['Football', 'Badminton', 'Cricket', 'Hockey', 'BasketBall', 'Tennis', 'Kabaddy', 'Baseball']\n"
          ]
        }
      ]
    },
    {
      "cell_type": "code",
      "source": [
        "#Loopin in list\n",
        "for i in sport:\n",
        "  print(i,end=\" \")"
      ],
      "metadata": {
        "colab": {
          "base_uri": "https://localhost:8080/"
        },
        "id": "BPyg-tCTtQCk",
        "outputId": "56edeafd-84f3-4368-e960-21118ddc5ab8"
      },
      "execution_count": null,
      "outputs": [
        {
          "output_type": "stream",
          "name": "stdout",
          "text": [
            "Football Badminton Cricket Hockey BasketBall Tennis Kabaddy Baseball "
          ]
        }
      ]
    },
    {
      "cell_type": "code",
      "source": [
        "for i in range(0,len(sport)):\n",
        "  print(sport[i],end=\" \")"
      ],
      "metadata": {
        "colab": {
          "base_uri": "https://localhost:8080/"
        },
        "id": "RXyxWf0MunJl",
        "outputId": "22e5d150-6ff2-4a2d-d813-9d59162f7eac"
      },
      "execution_count": null,
      "outputs": [
        {
          "output_type": "stream",
          "name": "stdout",
          "text": [
            "Football Badminton Cricket Hockey BasketBall Tennis Kabaddy Baseball "
          ]
        }
      ]
    },
    {
      "cell_type": "code",
      "source": [
        "# create a list and take input from user of size 5\n",
        "lst = []\n",
        "for i in range(0,5):\n",
        "  x = int(input(\"enter element \"))\n",
        "  lst.append(x)\n",
        "print(lst)"
      ],
      "metadata": {
        "colab": {
          "base_uri": "https://localhost:8080/"
        },
        "id": "2I2L2AeAu-wd",
        "outputId": "a1412fbf-13d9-45de-d54d-2af8a207867d"
      },
      "execution_count": null,
      "outputs": [
        {
          "output_type": "stream",
          "name": "stdout",
          "text": [
            "enter element 1\n",
            "enter element 2\n",
            "enter element 3\n",
            "enter element 4\n",
            "enter element 5\n",
            "[1, 2, 3, 4, 5]\n"
          ]
        }
      ]
    },
    {
      "cell_type": "markdown",
      "source": [
        "Tuple\n",
        "\n",
        "Allmost same as list but they are immutable"
      ],
      "metadata": {
        "id": "9ZMoIxV7wx8x"
      }
    },
    {
      "cell_type": "code",
      "source": [
        "tup = (1,2,3,4,5,6)\n",
        "print(tup)\n",
        "print(type(tup))"
      ],
      "metadata": {
        "colab": {
          "base_uri": "https://localhost:8080/"
        },
        "id": "DgL-sLBFvfOd",
        "outputId": "5f564b06-d241-424f-895a-83eface1503d"
      },
      "execution_count": null,
      "outputs": [
        {
          "output_type": "stream",
          "name": "stdout",
          "text": [
            "(1, 2, 3, 4, 5, 6)\n",
            "<class 'tuple'>\n"
          ]
        }
      ]
    },
    {
      "cell_type": "code",
      "source": [
        "print(tup[4])"
      ],
      "metadata": {
        "colab": {
          "base_uri": "https://localhost:8080/"
        },
        "id": "-dYTbwOTxH3G",
        "outputId": "f457fceb-5fc1-418f-8c30-d4da45319100"
      },
      "execution_count": null,
      "outputs": [
        {
          "output_type": "stream",
          "name": "stdout",
          "text": [
            "5\n"
          ]
        }
      ]
    },
    {
      "cell_type": "code",
      "source": [
        "#Perform indexing and slicing on tuple"
      ],
      "metadata": {
        "id": "zDCkDOuUxSfL"
      },
      "execution_count": null,
      "outputs": []
    },
    {
      "cell_type": "code",
      "source": [
        "tup[3] = 100 #immatable we cannot change value"
      ],
      "metadata": {
        "colab": {
          "base_uri": "https://localhost:8080/",
          "height": 141
        },
        "id": "Ygs9kkFixY6P",
        "outputId": "25210fba-c029-478f-c19b-9b1c627e82a3"
      },
      "execution_count": null,
      "outputs": [
        {
          "output_type": "error",
          "ename": "TypeError",
          "evalue": "'tuple' object does not support item assignment",
          "traceback": [
            "\u001b[0;31m---------------------------------------------------------------------------\u001b[0m",
            "\u001b[0;31mTypeError\u001b[0m                                 Traceback (most recent call last)",
            "\u001b[0;32m/tmp/ipython-input-84-4183227082.py\u001b[0m in \u001b[0;36m<cell line: 0>\u001b[0;34m()\u001b[0m\n\u001b[0;32m----> 1\u001b[0;31m \u001b[0mtup\u001b[0m\u001b[0;34m[\u001b[0m\u001b[0;36m3\u001b[0m\u001b[0;34m]\u001b[0m \u001b[0;34m=\u001b[0m \u001b[0;36m100\u001b[0m\u001b[0;34m\u001b[0m\u001b[0;34m\u001b[0m\u001b[0m\n\u001b[0m",
            "\u001b[0;31mTypeError\u001b[0m: 'tuple' object does not support item assignment"
          ]
        }
      ]
    },
    {
      "cell_type": "code",
      "source": [
        "tup.append(3)"
      ],
      "metadata": {
        "colab": {
          "base_uri": "https://localhost:8080/",
          "height": 141
        },
        "id": "xVb1bk5NxgVa",
        "outputId": "d2f19cb6-3d6c-4a2e-fedf-644554af44d4"
      },
      "execution_count": null,
      "outputs": [
        {
          "output_type": "error",
          "ename": "AttributeError",
          "evalue": "'tuple' object has no attribute 'append'",
          "traceback": [
            "\u001b[0;31m---------------------------------------------------------------------------\u001b[0m",
            "\u001b[0;31mAttributeError\u001b[0m                            Traceback (most recent call last)",
            "\u001b[0;32m/tmp/ipython-input-85-740566029.py\u001b[0m in \u001b[0;36m<cell line: 0>\u001b[0;34m()\u001b[0m\n\u001b[0;32m----> 1\u001b[0;31m \u001b[0mtup\u001b[0m\u001b[0;34m.\u001b[0m\u001b[0mappend\u001b[0m\u001b[0;34m(\u001b[0m\u001b[0;36m3\u001b[0m\u001b[0;34m)\u001b[0m\u001b[0;34m\u001b[0m\u001b[0;34m\u001b[0m\u001b[0m\n\u001b[0m",
            "\u001b[0;31mAttributeError\u001b[0m: 'tuple' object has no attribute 'append'"
          ]
        }
      ]
    },
    {
      "cell_type": "markdown",
      "source": [
        "String"
      ],
      "metadata": {
        "id": "um6CDQI1yAYM"
      }
    },
    {
      "cell_type": "code",
      "source": [
        "s = \"We are Studying Python\"\n",
        "print(s[4])"
      ],
      "metadata": {
        "colab": {
          "base_uri": "https://localhost:8080/"
        },
        "id": "DyRd_lScxqsj",
        "outputId": "085ae373-13e6-483a-81e8-b6f759a3ccf7"
      },
      "execution_count": null,
      "outputs": [
        {
          "output_type": "stream",
          "name": "stdout",
          "text": [
            "r\n"
          ]
        }
      ]
    },
    {
      "cell_type": "code",
      "source": [
        "s1 = \"Hello\"\n",
        "print(s1[3])"
      ],
      "metadata": {
        "colab": {
          "base_uri": "https://localhost:8080/"
        },
        "id": "MDUHshOoyVRf",
        "outputId": "05b24831-b504-4d76-e2d5-8cabc0301185"
      },
      "execution_count": null,
      "outputs": [
        {
          "output_type": "stream",
          "name": "stdout",
          "text": [
            "l\n"
          ]
        }
      ]
    },
    {
      "cell_type": "code",
      "source": [
        "#Perform indexing and slicing on String"
      ],
      "metadata": {
        "id": "G6DPoG5jyhDv"
      },
      "execution_count": null,
      "outputs": []
    },
    {
      "cell_type": "markdown",
      "source": [
        "#Dictionary"
      ],
      "metadata": {
        "id": "sJueZDS5Gdir"
      }
    },
    {
      "cell_type": "code",
      "source": [
        "#Dictionary is used to store the data in key - value pair\n",
        "#Syntax:\n",
        "\n",
        "# di_name = {key_name : value, key_name : value}\n",
        "# Sehvag : 70\n",
        "# Sachin : 75\n",
        "# Ganguli : 67\n",
        "# Dhoni : 78\n",
        "# Virat : 80\n",
        "# Gambhir : 97\n",
        "# Gill : 87"
      ],
      "metadata": {
        "id": "E8l3RdDDGbYE"
      },
      "execution_count": null,
      "outputs": []
    },
    {
      "cell_type": "code",
      "source": [
        "player = {\n",
        "    \"Sehwag\" : 70,\n",
        "    \"Sachin\" : 75,\n",
        "    \"Ganguli\" : 67,\n",
        "    \"Dhoni\" : 78,\n",
        "    \"Virat\" : 80,\n",
        "    \"Gambhir\" : 97,\n",
        "    \"Gill\" : 87\n",
        " }\n",
        "print(player)"
      ],
      "metadata": {
        "colab": {
          "base_uri": "https://localhost:8080/"
        },
        "id": "steIEkflJADv",
        "outputId": "c1605a7b-1084-4ba6-fbf7-2dd31751942d"
      },
      "execution_count": null,
      "outputs": [
        {
          "output_type": "stream",
          "name": "stdout",
          "text": [
            "{'Sehwag': 70, 'Sachin': 75, 'Ganguli': 67, 'Dhoni': 78, 'Virat': 80, 'Gambhir': 97, 'Gill': 87}\n"
          ]
        }
      ]
    },
    {
      "cell_type": "code",
      "source": [
        "#Accessing\n",
        "print(player[\"Sehwag\"])\n",
        "print(player[\"Gambhir\"])"
      ],
      "metadata": {
        "colab": {
          "base_uri": "https://localhost:8080/"
        },
        "id": "dDT5LL0lJ01C",
        "outputId": "65edee60-ec9d-4bc1-ae26-3e269a80640c"
      },
      "execution_count": null,
      "outputs": [
        {
          "output_type": "stream",
          "name": "stdout",
          "text": [
            "70\n",
            "97\n"
          ]
        }
      ]
    },
    {
      "cell_type": "code",
      "source": [
        "player[\"Sachin\"] = 100\n",
        "print(player)"
      ],
      "metadata": {
        "colab": {
          "base_uri": "https://localhost:8080/"
        },
        "id": "y7QLciWAKRPf",
        "outputId": "dcf999a4-b042-45a9-edea-6fff6f2d8dac"
      },
      "execution_count": null,
      "outputs": [
        {
          "output_type": "stream",
          "name": "stdout",
          "text": [
            "{'Sehwag': 70, 'Sachin': 100, 'Ganguli': 67, 'Dhoni': 78, 'Virat': 80, 'Gambhir': 97, 'Gill': 87}\n"
          ]
        }
      ]
    },
    {
      "cell_type": "code",
      "source": [
        "player[\"Yuvraj\"] = 58"
      ],
      "metadata": {
        "id": "2CVIXS-yKdmg"
      },
      "execution_count": null,
      "outputs": []
    },
    {
      "cell_type": "code",
      "source": [
        "print(player)"
      ],
      "metadata": {
        "colab": {
          "base_uri": "https://localhost:8080/"
        },
        "id": "At3EluuBKqa2",
        "outputId": "03c3e39c-eade-4fa9-f8fd-dc5d84ec8e55"
      },
      "execution_count": null,
      "outputs": [
        {
          "output_type": "stream",
          "name": "stdout",
          "text": [
            "{'Sehwag': 70, 'Sachin': 100, 'Ganguli': 67, 'Dhoni': 78, 'Virat': 80, 'Gambhir': 97, 'Gill': 87, 'Yuvraj': 58}\n"
          ]
        }
      ]
    },
    {
      "cell_type": "code",
      "source": [
        "player[\"Raina\"] = 85\n",
        "print(player[\"Raina\"])"
      ],
      "metadata": {
        "colab": {
          "base_uri": "https://localhost:8080/"
        },
        "id": "M26wOHlrKsjb",
        "outputId": "ea68932a-a808-4511-9241-3b059e779e56"
      },
      "execution_count": null,
      "outputs": [
        {
          "output_type": "stream",
          "name": "stdout",
          "text": [
            "85\n"
          ]
        }
      ]
    },
    {
      "cell_type": "code",
      "source": [
        "#Dictionary methods:\n",
        "#dict.keys()\n",
        "print(player.keys())\n",
        "print(player.values())\n",
        "print(player.items())"
      ],
      "metadata": {
        "colab": {
          "base_uri": "https://localhost:8080/"
        },
        "id": "2J-ErrWYLXTS",
        "outputId": "abed7370-042e-4aec-ede5-a67e37011412"
      },
      "execution_count": null,
      "outputs": [
        {
          "output_type": "stream",
          "name": "stdout",
          "text": [
            "dict_keys(['Sehwag', 'Sachin', 'Ganguli', 'Dhoni', 'Virat', 'Gambhir', 'Gill', 'Yuvraj', 'Raina'])\n",
            "dict_values([70, 100, 67, 78, 80, 97, 87, 58, 85])\n",
            "dict_items([('Sehwag', 70), ('Sachin', 100), ('Ganguli', 67), ('Dhoni', 78), ('Virat', 80), ('Gambhir', 97), ('Gill', 87), ('Yuvraj', 58), ('Raina', 85)])\n"
          ]
        }
      ]
    },
    {
      "cell_type": "code",
      "source": [
        "for key,value in player.items():\n",
        "  print(key,\" \",value)"
      ],
      "metadata": {
        "colab": {
          "base_uri": "https://localhost:8080/"
        },
        "id": "Yy-GVQPPK91m",
        "outputId": "40a57dda-9648-4340-96c1-65d4e7dbecfc"
      },
      "execution_count": null,
      "outputs": [
        {
          "output_type": "stream",
          "name": "stdout",
          "text": [
            "Sehwag   70\n",
            "Sachin   100\n",
            "Ganguli   67\n",
            "Dhoni   78\n",
            "Virat   80\n",
            "Gambhir   97\n",
            "Gill   87\n",
            "Yuvraj   58\n",
            "Raina   85\n"
          ]
        }
      ]
    },
    {
      "cell_type": "code",
      "source": [
        "del player['Gambhir']\n",
        "print(player)"
      ],
      "metadata": {
        "colab": {
          "base_uri": "https://localhost:8080/"
        },
        "id": "cW0LaHO1MFIT",
        "outputId": "b0b39fdb-9a0a-4f52-d0e2-5be6a656f1d7"
      },
      "execution_count": null,
      "outputs": [
        {
          "output_type": "stream",
          "name": "stdout",
          "text": [
            "{'Sehwag': 70, 'Sachin': 100, 'Ganguli': 67, 'Dhoni': 78, 'Virat': 80, 'Gill': 87, 'Yuvraj': 58}\n"
          ]
        }
      ]
    },
    {
      "cell_type": "markdown",
      "source": [
        "#Functions"
      ],
      "metadata": {
        "id": "JFZUa_QMMs_l"
      }
    },
    {
      "cell_type": "code",
      "source": [
        "# Inbuild function:\n",
        "# append() -> adding elements\n",
        "# keys()-> dict\n",
        "# items - >dict\n"
      ],
      "metadata": {
        "id": "NHpa91UHMWYM"
      },
      "execution_count": null,
      "outputs": []
    },
    {
      "cell_type": "code",
      "source": [
        "#user defined function\n",
        "num1 = 14\n",
        "num2 = 15\n",
        "print(num1+num2)"
      ],
      "metadata": {
        "colab": {
          "base_uri": "https://localhost:8080/"
        },
        "id": "uUZQ05i9N3N4",
        "outputId": "27b73657-ccbf-4c8c-b95d-9110d32a3246"
      },
      "execution_count": null,
      "outputs": [
        {
          "output_type": "stream",
          "name": "stdout",
          "text": [
            "29\n"
          ]
        }
      ]
    },
    {
      "cell_type": "code",
      "source": [
        "def add(num1,num2):\n",
        "  print(num1+num2)\n",
        "\n",
        "add(3,4)\n",
        "add(4,5)\n",
        "add(15,17)\n",
        "add(13433232,133534)"
      ],
      "metadata": {
        "colab": {
          "base_uri": "https://localhost:8080/"
        },
        "id": "pk3bQkbDOASz",
        "outputId": "5c4c0db6-4676-4831-e233-b1d8bdf68d9e"
      },
      "execution_count": null,
      "outputs": [
        {
          "output_type": "stream",
          "name": "stdout",
          "text": [
            "7\n",
            "9\n",
            "32\n",
            "13566766\n"
          ]
        }
      ]
    },
    {
      "cell_type": "code",
      "source": [
        "#return type and not return type\n",
        "def fun(a,b):\n",
        "  return a+b\n",
        "def fun2(a,b):\n",
        "  print(a+b)\n",
        "print(fun(3,4))\n",
        "print(fun2(4,5))"
      ],
      "metadata": {
        "colab": {
          "base_uri": "https://localhost:8080/"
        },
        "id": "VCePzaimOnsZ",
        "outputId": "c25dd907-8aec-4502-8cc9-95554f84f6d4"
      },
      "execution_count": null,
      "outputs": [
        {
          "output_type": "stream",
          "name": "stdout",
          "text": [
            "7\n",
            "9\n",
            "None\n"
          ]
        }
      ]
    },
    {
      "cell_type": "code",
      "source": [
        "def greet(name):\n",
        "  print(\"Hello, my name is \",name)\n",
        "greet(\"Deeptha\")\n",
        "greet(\"madhuri\")\n",
        "greet(\"Meenakshi\")\n",
        "greet(\"Aditya\")\n",
        "greet(\"himanshu\")\n",
        "greet(\"Shafeeq\")\n",
        "greet(\"Agnes\")\n",
        "name = \"Nimesh\"\n",
        "greet(name)\n",
        "greet(1)"
      ],
      "metadata": {
        "colab": {
          "base_uri": "https://localhost:8080/"
        },
        "id": "zIXMxIk2RESd",
        "outputId": "529f12f0-9c25-45ab-fde2-3dbb5891d2db"
      },
      "execution_count": null,
      "outputs": [
        {
          "output_type": "stream",
          "name": "stdout",
          "text": [
            "Hello, my name is  Deeptha\n",
            "Hello, my name is  madhuri\n",
            "Hello, my name is  Meenakshi\n",
            "Hello, my name is  Aditya\n",
            "Hello, my name is  himanshu\n",
            "Hello, my name is  Shafeeq\n",
            "Hello, my name is  Agnes\n",
            "Hello, my name is  Nimesh\n",
            "Hello, my name is  1\n"
          ]
        }
      ]
    },
    {
      "cell_type": "code",
      "source": [
        "newfun1(\"Swastik\")\n",
        "newfun1(\"Madhuri\")\n",
        "def newfun1(name):\n",
        "  print(\"Hello, my name is \",name)"
      ],
      "metadata": {
        "colab": {
          "base_uri": "https://localhost:8080/",
          "height": 200
        },
        "id": "WLG8smPyT2M-",
        "outputId": "f25ebd5b-f269-4762-8d85-4ad4dae1eb15"
      },
      "execution_count": null,
      "outputs": [
        {
          "output_type": "error",
          "ename": "NameError",
          "evalue": "name 'newfun1' is not defined",
          "traceback": [
            "\u001b[0;31m---------------------------------------------------------------------------\u001b[0m",
            "\u001b[0;31mNameError\u001b[0m                                 Traceback (most recent call last)",
            "\u001b[0;32m/tmp/ipython-input-30-2603944610.py\u001b[0m in \u001b[0;36m<cell line: 0>\u001b[0;34m()\u001b[0m\n\u001b[0;32m----> 1\u001b[0;31m \u001b[0mnewfun1\u001b[0m\u001b[0;34m(\u001b[0m\u001b[0;34m\"Swastik\"\u001b[0m\u001b[0;34m)\u001b[0m\u001b[0;34m\u001b[0m\u001b[0;34m\u001b[0m\u001b[0m\n\u001b[0m\u001b[1;32m      2\u001b[0m \u001b[0mnewfun1\u001b[0m\u001b[0;34m(\u001b[0m\u001b[0;34m\"Madhuri\"\u001b[0m\u001b[0;34m)\u001b[0m\u001b[0;34m\u001b[0m\u001b[0;34m\u001b[0m\u001b[0m\n\u001b[1;32m      3\u001b[0m \u001b[0;32mdef\u001b[0m \u001b[0mnewfun1\u001b[0m\u001b[0;34m(\u001b[0m\u001b[0mname\u001b[0m\u001b[0;34m)\u001b[0m\u001b[0;34m:\u001b[0m\u001b[0;34m\u001b[0m\u001b[0;34m\u001b[0m\u001b[0m\n\u001b[1;32m      4\u001b[0m   \u001b[0mprint\u001b[0m\u001b[0;34m(\u001b[0m\u001b[0;34m\"Hello, my name is \"\u001b[0m\u001b[0;34m,\u001b[0m\u001b[0mname\u001b[0m\u001b[0;34m)\u001b[0m\u001b[0;34m\u001b[0m\u001b[0;34m\u001b[0m\u001b[0m\n",
            "\u001b[0;31mNameError\u001b[0m: name 'newfun1' is not defined"
          ]
        }
      ]
    },
    {
      "cell_type": "code",
      "source": [
        "# table of 7 - 7 14 21 28 35 42 49 56 63 70\n",
        "# create a function that takes n as parameter and print the table of n\n",
        "def table(n):\n",
        "    for i in range(1, 11):\n",
        "        print(n, \"x\", i, \"=\", n * i)\n",
        "\n",
        "table(7)"
      ],
      "metadata": {
        "colab": {
          "base_uri": "https://localhost:8080/"
        },
        "id": "XqF9Z9haVHmo",
        "outputId": "2bfa0529-3cec-4728-9463-c458a689c662"
      },
      "execution_count": null,
      "outputs": [
        {
          "output_type": "stream",
          "name": "stdout",
          "text": [
            "7 x 1 = 7\n",
            "7 x 2 = 14\n",
            "7 x 3 = 21\n",
            "7 x 4 = 28\n",
            "7 x 5 = 35\n",
            "7 x 6 = 42\n",
            "7 x 7 = 49\n",
            "7 x 8 = 56\n",
            "7 x 9 = 63\n",
            "7 x 10 = 70\n"
          ]
        }
      ]
    },
    {
      "cell_type": "markdown",
      "source": [
        "#HANDSON"
      ],
      "metadata": {
        "id": "hax4UsnfXurm"
      }
    },
    {
      "cell_type": "markdown",
      "source": [
        "CREATE FUNCTION WITH 3 NUMBERS AND TELL WHICH ONE IS GREATER"
      ],
      "metadata": {
        "id": "l-ny_G95XrhV"
      }
    },
    {
      "cell_type": "code",
      "source": [
        "def greater(a,b,c):\n",
        "  if a>=b and a>=c:\n",
        "    print(a,\" is greatest\")\n",
        "  elif b>=a and b>=c:\n",
        "    print(b,\" is greatest\")\n",
        "  else:\n",
        "    print(c,\" is greatest\")\n",
        "greater(10,100,100)"
      ],
      "metadata": {
        "colab": {
          "base_uri": "https://localhost:8080/"
        },
        "id": "tA_f00ymW_jY",
        "outputId": "0b3b869a-e8fb-435e-ac45-85af03ba6431"
      },
      "execution_count": null,
      "outputs": [
        {
          "output_type": "stream",
          "name": "stdout",
          "text": [
            "100  is greatest\n"
          ]
        }
      ]
    },
    {
      "cell_type": "markdown",
      "source": [
        "Create a calculator program for addition, subtraction, multiplication and floor division.\n",
        "\n",
        "Take the inputs from the user, and based on the choice of operation, return the results."
      ],
      "metadata": {
        "id": "hBWOGOyBfede"
      }
    },
    {
      "cell_type": "code",
      "source": [
        "def calculater():\n",
        "  a = int(input(\"Enter num1: \"))\n",
        "  b = int(input(\"Enter num2: \"))\n",
        "  choice = int(input(\"Enter choice 1,2,3,4: \"))\n",
        "  #1-add,2-sub,3-mul,4-floordev\n",
        "  if choice==1:\n",
        "    return a+b\n",
        "  elif choice==2:\n",
        "    return a-b\n",
        "  elif choice==3:\n",
        "    return a*b\n",
        "  elif choice==4:\n",
        "    if b!=0:\n",
        "      return a//b\n",
        "    else:\n",
        "      print(\"Zero devision error\")\n",
        "print(calculater())"
      ],
      "metadata": {
        "colab": {
          "base_uri": "https://localhost:8080/"
        },
        "id": "1TmGCIZpXHsr",
        "outputId": "c03d0ac6-91d9-425d-f3cb-be399ffc7beb"
      },
      "execution_count": null,
      "outputs": [
        {
          "output_type": "stream",
          "name": "stdout",
          "text": [
            "Enter num1: 24\n",
            "Enter num2: 0\n",
            "Enter choice 1,2,3,4: 4\n",
            "Zero devision error\n",
            "None\n"
          ]
        }
      ]
    },
    {
      "cell_type": "markdown",
      "source": [],
      "metadata": {
        "id": "JAHU2DG7jskx"
      }
    },
    {
      "cell_type": "markdown",
      "source": [
        "Create a list of the first 50 natural numbers, and perform the following operations.\n",
        "\n",
        "Count the even numbers from list\n",
        "\n",
        "return sum of list\n",
        "\n",
        "reverse the list"
      ],
      "metadata": {
        "id": "vVOQeburkPFO"
      }
    },
    {
      "cell_type": "code",
      "source": [
        "li = []\n",
        "for i in range(1,51):\n",
        "  li.append(i)\n",
        "print(li)\n",
        "#even count\n",
        "even = 0\n",
        "for i in li:\n",
        "  if i%2==0:\n",
        "    even += 1\n",
        "print(even)\n",
        "# print the sum with the help of inbuild sum function\n",
        "def sum(li):\n",
        "  S = 0\n",
        "  for i in li:\n",
        "    S += i\n",
        "  return S\n",
        "print(sum(li))\n",
        "#reverse\n",
        "\n",
        "revli = li[::-1]\n",
        "print(revli)\n"
      ],
      "metadata": {
        "colab": {
          "base_uri": "https://localhost:8080/"
        },
        "id": "MRqh6etWjHZp",
        "outputId": "723a1630-054a-4785-c3d7-1ddeaa1bc4cd"
      },
      "execution_count": null,
      "outputs": [
        {
          "output_type": "stream",
          "name": "stdout",
          "text": [
            "[1, 2, 3, 4, 5, 6, 7, 8, 9, 10, 11, 12, 13, 14, 15, 16, 17, 18, 19, 20, 21, 22, 23, 24, 25, 26, 27, 28, 29, 30, 31, 32, 33, 34, 35, 36, 37, 38, 39, 40, 41, 42, 43, 44, 45, 46, 47, 48, 49, 50]\n",
            "25\n",
            "1275\n",
            "[50, 49, 48, 47, 46, 45, 44, 43, 42, 41, 40, 39, 38, 37, 36, 35, 34, 33, 32, 31, 30, 29, 28, 27, 26, 25, 24, 23, 22, 21, 20, 19, 18, 17, 16, 15, 14, 13, 12, 11, 10, 9, 8, 7, 6, 5, 4, 3, 2, 1]\n"
          ]
        }
      ]
    },
    {
      "cell_type": "markdown",
      "source": [
        "For the given strings A = “Python Programming Language”, B = “Best in the World” , perform\n",
        "the following operations.\n",
        "\n",
        "l. Using indexing operations, get the text “gram” from the string A.\n",
        "\n",
        "m. Using indexing operations, get the text “World” from the string B.\n",
        "\n",
        "n. Change the letters in both strings to Uppercase letters.\n",
        "\n",
        "o. Concatenate the two strings."
      ],
      "metadata": {
        "id": "i6o7ugEGqIDB"
      }
    },
    {
      "cell_type": "code",
      "source": [
        "A = \"Python Programming Language\"\n",
        "B = \"Best in the World\"\n",
        "print(A[10:14])\n",
        "print(B[12:18])\n",
        "print(A.upper())\n",
        "print(B.upper())\n",
        "print(A+\" \"+B)\n"
      ],
      "metadata": {
        "colab": {
          "base_uri": "https://localhost:8080/"
        },
        "id": "uhYxFP1lkHtX",
        "outputId": "dc07c170-ce56-431d-f3bb-a9b653b12d5f"
      },
      "execution_count": null,
      "outputs": [
        {
          "output_type": "stream",
          "name": "stdout",
          "text": [
            "gram\n",
            "World\n",
            "PYTHON PROGRAMMING LANGUAGE\n",
            "BEST IN THE WORLD\n",
            "Python Programming Language Best in the World\n"
          ]
        }
      ]
    },
    {
      "cell_type": "markdown",
      "source": [
        "\n",
        "Reverse a String\n",
        "Write a function that takes a string and returns it reversed.\n",
        "\n",
        "Check Palindrome\n",
        "Check if a string is a palindrome (reads the same forwards and backwards).\n",
        "\n",
        "Fibonacci Sequence\n",
        "Generate the first n numbers in the Fibonacci sequence.\n",
        "\n",
        "Factorial Calculation\n",
        "Write a recursive and iterative version to calculate factorial of a number.\n",
        "\n",
        "Count Vowels in a String\n",
        "Return the number of vowels in a string.\n",
        "\n",
        "Find Maximum and Minimum in a List\n",
        "Without using built-in functions."
      ],
      "metadata": {
        "id": "fP7HEQrys4_g"
      }
    },
    {
      "cell_type": "markdown",
      "source": [
        "#Object Oriented Programming\n",
        "\n",
        "1. Deals with Real world entities\n",
        "2. Classes object\n",
        "\n",
        "Class : it is blueprint of Object\n",
        "\n",
        "Object: Real world Entity"
      ],
      "metadata": {
        "id": "OoP886QaMp38"
      }
    },
    {
      "cell_type": "code",
      "source": [
        "#class - Animal\n",
        "#object - Dog,cat,cow,lion,pig\n",
        "class Animal:\n",
        "  pass\n",
        "#Class - Dog\n",
        "#Object - german,pug,pitbull,labrador,golden\n",
        "class Dog:\n",
        "  pass\n",
        "#We cannot leave class empty\n",
        "#If we do not want to write inside class, just write  pass\n"
      ],
      "metadata": {
        "id": "QL_V4iiCq7XK"
      },
      "execution_count": null,
      "outputs": []
    },
    {
      "cell_type": "code",
      "source": [
        "#class - Animal\n",
        "#object - Dog,cat,cow,lion,pig\n",
        "#Atrributes(Properties) : color, size, wild/domestic, carni/herbo\n",
        "#Methods(functions) : run,eat,sound"
      ],
      "metadata": {
        "id": "ozx6c_H1SrhJ"
      },
      "execution_count": null,
      "outputs": []
    },
    {
      "cell_type": "code",
      "source": [
        "#class - Car\n",
        "#object - Mercedez,BMW,Thar,audi,rolls,SUV\n",
        "#attributes - color,model,mileage,engine,price\n",
        "#Methods - Speed, break,accelator"
      ],
      "metadata": {
        "id": "lpPY6ZbpUCAJ"
      },
      "execution_count": null,
      "outputs": []
    },
    {
      "cell_type": "code",
      "source": [
        "#class Phone\n",
        "#object - realme,samsung,iphone,nothing,oppo,vivo\n",
        "#attributes - color,mahbatery,model,ram,pixel,storage,processor,ds\n",
        "#Methods - call,switchoff,videocall,gaming,texting"
      ],
      "metadata": {
        "id": "nCdUeUe5Ulcu"
      },
      "execution_count": null,
      "outputs": []
    },
    {
      "cell_type": "code",
      "source": [
        "class Car:\n",
        "  def display(self):\n",
        "    print(\"This is my car\")\n",
        "c1 = Car() #Object(Instances)\n",
        "c1.display()"
      ],
      "metadata": {
        "colab": {
          "base_uri": "https://localhost:8080/"
        },
        "id": "icL6EaLSVC-r",
        "outputId": "9285f146-dde2-402f-cb00-91ee6078a0ea"
      },
      "execution_count": null,
      "outputs": [
        {
          "output_type": "stream",
          "name": "stdout",
          "text": [
            "This is my car\n"
          ]
        }
      ]
    },
    {
      "cell_type": "markdown",
      "source": [
        "__init__() -> Construnctor\n",
        "\n",
        "self -> reference of object\n"
      ],
      "metadata": {
        "id": "YkLyJBAvWKTj"
      }
    },
    {
      "cell_type": "code",
      "source": [
        "class Car:\n",
        "  def __init__(self,name,color,model,price):\n",
        "    self.name = name\n",
        "    self.color = color\n",
        "    self.model = model\n",
        "    self.price = price\n",
        "  def display(self):\n",
        "    print(\"My car is \",self.name,\" of \",self.color,\" color \")\n",
        "    print(\"It's of \",self.model,\" model of price: \",self.price)\n",
        "\n",
        "\n",
        "Mee = Car(\"Thar\",\"Black\",2025,10000)\n",
        "Arn = Car(\"Fortuner\",\"White\",2024,15000)\n",
        "Mee.display()\n",
        "Arn.display()"
      ],
      "metadata": {
        "colab": {
          "base_uri": "https://localhost:8080/"
        },
        "id": "-vuTO8xKVvoL",
        "outputId": "ee19c9a5-cf45-4051-e181-a2b0b86ef1bc"
      },
      "execution_count": null,
      "outputs": [
        {
          "output_type": "stream",
          "name": "stdout",
          "text": [
            "My car is  Thar  of  Black  color \n",
            "It's of  2025  model of price:  10000\n",
            "My car is  Fortuner  of  White  color \n",
            "It's of  2024  model of price:  15000\n"
          ]
        }
      ]
    },
    {
      "cell_type": "code",
      "source": [
        "class car:\n",
        "  def __init__(self,name):\n",
        "    self.name = name\n",
        "  def display(self):\n",
        "    print(self.name)\n",
        "c3 = car(\"Nimesh\")\n",
        "c3.display()"
      ],
      "metadata": {
        "colab": {
          "base_uri": "https://localhost:8080/"
        },
        "id": "Zkx00gSEdWwj",
        "outputId": "b5bdfa3a-64c1-46a2-bcf3-c52395854983"
      },
      "execution_count": null,
      "outputs": [
        {
          "output_type": "stream",
          "name": "stdout",
          "text": [
            "Nimesh\n"
          ]
        }
      ]
    },
    {
      "cell_type": "code",
      "source": [
        "class greet:\n",
        "  def __init__(self):\n",
        "    print(\"Hello\")\n",
        "Greet = greet()"
      ],
      "metadata": {
        "colab": {
          "base_uri": "https://localhost:8080/"
        },
        "id": "HOJvpmhoeN8e",
        "outputId": "6141ea4e-5cd5-4222-de67-097e468dff30"
      },
      "execution_count": null,
      "outputs": [
        {
          "output_type": "stream",
          "name": "stdout",
          "text": [
            "Hello\n"
          ]
        }
      ]
    },
    {
      "cell_type": "code",
      "source": [
        "#Create a class Dog with 3 attributes and a display method displaying all the attributes.\n",
        "class Dog:\n",
        "  def __init__(self,name,color,age):\n",
        "    self.name = name\n",
        "    self.color = color\n",
        "    self.age = age\n",
        "  def display(self):\n",
        "    print(self.name,self.color,self.age)\n",
        "\n",
        "d1 = Dog(\"Pitbull\",\"brown\",2)\n",
        "d1.display()"
      ],
      "metadata": {
        "colab": {
          "base_uri": "https://localhost:8080/"
        },
        "id": "PI56gsjtflzB",
        "outputId": "679ba0ad-fc95-4c56-a590-8880182d2f84"
      },
      "execution_count": null,
      "outputs": [
        {
          "output_type": "stream",
          "name": "stdout",
          "text": [
            "Pitbull brown 2\n"
          ]
        }
      ]
    },
    {
      "cell_type": "code",
      "source": [
        "#Accessing the attributes\n",
        "class abc:\n",
        "  def __init__(self,name):\n",
        "    self.name = name\n",
        "trainer = abc(\"Swastik\")\n",
        "print(trainer.name)"
      ],
      "metadata": {
        "colab": {
          "base_uri": "https://localhost:8080/"
        },
        "id": "Cidy9kv8oVST",
        "outputId": "b53a10b4-53b7-492e-f35d-3763dd27688d"
      },
      "execution_count": null,
      "outputs": [
        {
          "output_type": "stream",
          "name": "stdout",
          "text": [
            "Swastik\n"
          ]
        }
      ]
    },
    {
      "cell_type": "code",
      "source": [
        "#Accessing the attributes\n",
        "class abc:\n",
        "  def __init__(self):\n",
        "    self.name = \"Madhuri\"\n",
        "trainer = abc()\n",
        "print(trainer.name)"
      ],
      "metadata": {
        "colab": {
          "base_uri": "https://localhost:8080/"
        },
        "id": "Mr7kpuw8o4R5",
        "outputId": "8fb9bebc-b853-4eb3-c716-caaf4ea99760"
      },
      "execution_count": null,
      "outputs": [
        {
          "output_type": "stream",
          "name": "stdout",
          "text": [
            "Madhuri\n"
          ]
        }
      ]
    },
    {
      "cell_type": "code",
      "source": [
        "#Accessing the attributes\n",
        "class abc:\n",
        "  def __init__(self,n):\n",
        "    self.name = \"Madhuri\"\n",
        "trainer = abc(\"Swastik\")\n",
        "trainer.name = \"Arnab\"\n",
        "print(trainer.name)"
      ],
      "metadata": {
        "colab": {
          "base_uri": "https://localhost:8080/"
        },
        "id": "eP82nSeLpIqM",
        "outputId": "72ea076f-3e4d-4de6-9759-0b316a143645"
      },
      "execution_count": null,
      "outputs": [
        {
          "output_type": "stream",
          "name": "stdout",
          "text": [
            "Arnab\n"
          ]
        }
      ]
    },
    {
      "cell_type": "markdown",
      "source": [
        "#4 pillars of OOPS\n",
        "\n",
        "1. Encapsulation\n",
        "2. Inheritance\n",
        "3. Polymorphism\n",
        "4. Abstraction"
      ],
      "metadata": {
        "id": "aXzhqkirqPfH"
      }
    },
    {
      "cell_type": "markdown",
      "source": [
        "Encapsulation : Binding the data (Attributes) and methods within a single unit\n",
        "\n",
        "Data hiding -> Only gives access to required owners"
      ],
      "metadata": {
        "id": "TjCM0OcLsji8"
      }
    },
    {
      "cell_type": "code",
      "source": [
        "#Access Specifiers\n",
        "# 1. Public - can be accessed outside the class\n",
        "# 2. Private - It cannot be accessed outside the class\n",
        "# 3. Protected - It can be accessed inside class and it's subclasses\n",
        "# _varname -> protected\n",
        "# __varname -> private"
      ],
      "metadata": {
        "id": "w_RWexnwpoM1"
      },
      "execution_count": null,
      "outputs": []
    },
    {
      "cell_type": "code",
      "source": [
        "class student:\n",
        "  def __init__(self):\n",
        "    self.name = \"Swastik\"\n",
        "    self.__score = 5\n",
        "st = student()\n",
        "print(st.name)\n",
        "print(st.__score)"
      ],
      "metadata": {
        "colab": {
          "base_uri": "https://localhost:8080/",
          "height": 200
        },
        "id": "jypV8trzwXWS",
        "outputId": "cda709b8-751e-4a71-936d-d8ed53307e8c"
      },
      "execution_count": null,
      "outputs": [
        {
          "output_type": "stream",
          "name": "stdout",
          "text": [
            "Swastik\n"
          ]
        },
        {
          "output_type": "error",
          "ename": "AttributeError",
          "evalue": "'student' object has no attribute '__score'",
          "traceback": [
            "\u001b[0;31m---------------------------------------------------------------------------\u001b[0m",
            "\u001b[0;31mAttributeError\u001b[0m                            Traceback (most recent call last)",
            "\u001b[0;32m/tmp/ipython-input-38-3018975015.py\u001b[0m in \u001b[0;36m<cell line: 0>\u001b[0;34m()\u001b[0m\n\u001b[1;32m      5\u001b[0m \u001b[0mst\u001b[0m \u001b[0;34m=\u001b[0m \u001b[0mstudent\u001b[0m\u001b[0;34m(\u001b[0m\u001b[0;34m)\u001b[0m\u001b[0;34m\u001b[0m\u001b[0;34m\u001b[0m\u001b[0m\n\u001b[1;32m      6\u001b[0m \u001b[0mprint\u001b[0m\u001b[0;34m(\u001b[0m\u001b[0mst\u001b[0m\u001b[0;34m.\u001b[0m\u001b[0mname\u001b[0m\u001b[0;34m)\u001b[0m\u001b[0;34m\u001b[0m\u001b[0;34m\u001b[0m\u001b[0m\n\u001b[0;32m----> 7\u001b[0;31m \u001b[0mprint\u001b[0m\u001b[0;34m(\u001b[0m\u001b[0mst\u001b[0m\u001b[0;34m.\u001b[0m\u001b[0m__score\u001b[0m\u001b[0;34m)\u001b[0m\u001b[0;34m\u001b[0m\u001b[0;34m\u001b[0m\u001b[0m\n\u001b[0m",
            "\u001b[0;31mAttributeError\u001b[0m: 'student' object has no attribute '__score'"
          ]
        }
      ]
    },
    {
      "cell_type": "code",
      "source": [
        "#Getter Function\n",
        "class person:\n",
        "  def __init__(self,name,job):\n",
        "    self.name = name\n",
        "    self.__job = job\n",
        "  def getter(self):\n",
        "    print(\"My job is\",self.__job)\n",
        "\n",
        "ob = person(\"Swastik\",\"Data Scientist\")\n",
        "print(ob.name)\n",
        "ob.getter()"
      ],
      "metadata": {
        "colab": {
          "base_uri": "https://localhost:8080/"
        },
        "id": "kGVFfySqw0nd",
        "outputId": "5dab74f7-9cb2-406d-c7bb-3ab4dced45d6"
      },
      "execution_count": null,
      "outputs": [
        {
          "output_type": "stream",
          "name": "stdout",
          "text": [
            "Swastik\n",
            "My job is Data Scientist\n"
          ]
        }
      ]
    },
    {
      "cell_type": "code",
      "source": [
        "#Setter\n",
        "#Getter Function\n",
        "class person:\n",
        "  def __init__(self,name,job):\n",
        "    self.name = name\n",
        "    self.__job = job\n",
        "  def getter(self):\n",
        "    print(\"My job is\",self.__job)\n",
        "  def setter(self,newjob):\n",
        "    self.__job = newjob\n",
        "\n",
        "ob = person(\"Swastik\",\"Data Scientist\")\n",
        "print(ob.name)\n",
        "ob.getter()\n",
        "ob.setter(\"Software Developer\")\n",
        "ob.getter()"
      ],
      "metadata": {
        "colab": {
          "base_uri": "https://localhost:8080/"
        },
        "id": "ZhIOBFoQx7dX",
        "outputId": "57d725ec-c68d-417b-ea34-7bdd5e820945"
      },
      "execution_count": null,
      "outputs": [
        {
          "output_type": "stream",
          "name": "stdout",
          "text": [
            "Swastik\n",
            "My job is Data Scientist\n",
            "My job is Software Developer\n"
          ]
        }
      ]
    },
    {
      "cell_type": "code",
      "source": [
        "# Create A class Bank account with name,bankbalance,account number as attributes\n",
        "#acccounter number and bank balance are private\n",
        "#create display method to diplay bank details\n",
        "# Create two methods deposit and withdraw with certain amount\n",
        "# start bank balance with 5000."
      ],
      "metadata": {
        "id": "x99vj5yJyx2Y"
      },
      "execution_count": null,
      "outputs": []
    },
    {
      "cell_type": "code",
      "source": [
        "# clas -> bank account\n",
        "# 3 -> bankbalance and account no are private\n",
        "\n",
        "class BankAccount:\n",
        "  def __init__(self,name,bankbalance,accountno):\n",
        "    self.name = name\n",
        "    self.__balance = bankbalance\n",
        "    self.__number = accountno\n",
        "  def display(self):\n",
        "    print(\"MY name is \",self.name,\" account no : \",self.__number,\" With balance \",self.__balance)\n",
        "  def deposit(self,amount):\n",
        "    self.__balance += amount\n",
        "    print(amount,\" has been deposited successsfully\")\n",
        "  def withdraw(self,amount):\n",
        "    if amount > self.__balance:\n",
        "      print(\"Insufficient balance\")\n",
        "    else:\n",
        "      self.__balance -= amount\n",
        "      print(amount,\"Withdrawn successfully\")\n",
        "  def checkbalance(self):\n",
        "    print(self.__balance)\n",
        "\n",
        "swastik = BankAccount(\"Swastik\",5000,\"12134\")\n",
        "swastik.display()\n",
        "swastik.checkbalance()\n",
        "swastik.deposit(2000)\n",
        "swastik.checkbalance()\n",
        "swastik.withdraw(10000)\n",
        "swastik.checkbalance()\n",
        "swastik.withdraw(5000)\n",
        "swastik.checkbalance()"
      ],
      "metadata": {
        "colab": {
          "base_uri": "https://localhost:8080/"
        },
        "id": "oP2gwVRCGeh0",
        "outputId": "79df4d1b-db3f-4961-a90b-368cfd092775"
      },
      "execution_count": null,
      "outputs": [
        {
          "output_type": "stream",
          "name": "stdout",
          "text": [
            "MY name is  Swastik  account no :  12134  With balance  5000\n",
            "5000\n",
            "2000  has been deposited successsfully\n",
            "7000\n",
            "Insufficient balance\n",
            "7000\n",
            "5000 Withdrawn successfully\n",
            "2000\n"
          ]
        }
      ]
    },
    {
      "cell_type": "markdown",
      "source": [
        "Inheritance -- Where a claass is going to inherit the properties and methods of other class:\n",
        "\n",
        "Parent class - The class whose property is going to be inherit\n",
        "\n",
        "Child class - The class that inherits properties of parent\n"
      ],
      "metadata": {
        "id": "EIPMUVbiOAYr"
      }
    },
    {
      "cell_type": "markdown",
      "source": [
        "Types of Inheritance\n",
        "\n",
        "1. Single Inheritance : Single parent and single child\n",
        "\n",
        "2. Multiple inheritance : multiple parent and single child\n",
        "\n",
        "3. Multilevel inheritance : grand father -> father -> child\n",
        "\n",
        "4. Heriarichal inheritance - single parent and multiple child\n",
        "\n",
        "5. Hybrid - Multiple types of inheritance in a single code."
      ],
      "metadata": {
        "id": "UFY1R90BQk3w"
      }
    },
    {
      "cell_type": "code",
      "source": [
        "class Animal:\n",
        "  def sound(self):\n",
        "    print(\"Animal sound\")\n",
        "\n",
        "class Dog(Animal):\n",
        "  pass\n",
        "\n",
        "dog = Dog()\n",
        "dog.sound()\n"
      ],
      "metadata": {
        "colab": {
          "base_uri": "https://localhost:8080/"
        },
        "id": "YkKhSxJ8Mijh",
        "outputId": "3d45cf84-5ea2-4c89-9d0d-2548bf5eb387"
      },
      "execution_count": null,
      "outputs": [
        {
          "output_type": "stream",
          "name": "stdout",
          "text": [
            "Animal sound\n"
          ]
        }
      ]
    },
    {
      "cell_type": "code",
      "source": [
        "class Employee:\n",
        "  def __init__(self,name,empid):\n",
        "    self.name = name\n",
        "    self.empid = empid\n",
        "  def display(self):\n",
        "    print(\"My name is \",self.name,\" emp id : \",self.empid)\n",
        "\n",
        "class techemployee(Employee):\n",
        "  def __init__(self,name,empid,team):\n",
        "    # super().__init__(name,empid)\n",
        "    Employee.__init__(self,name,empid)\n",
        "    self.team = team\n",
        "  def display(self):\n",
        "    print(self.name,self.empid,self.team)\n",
        "\n",
        "ob = techemployee(\"Swastik\",8607,\"AI/ML\")\n",
        "ob.display()"
      ],
      "metadata": {
        "colab": {
          "base_uri": "https://localhost:8080/"
        },
        "id": "96JSFeQgYaoc",
        "outputId": "bdafaf4c-cbba-476d-f4a9-4fbb95faca44"
      },
      "execution_count": null,
      "outputs": [
        {
          "output_type": "stream",
          "name": "stdout",
          "text": [
            "Swastik 8607 AI/ML\n"
          ]
        }
      ]
    },
    {
      "cell_type": "code",
      "source": [
        "#Multiple inheritance\n",
        "class mother:\n",
        "  def __init__(self,mname):\n",
        "    self.mname = mname\n",
        "class father:\n",
        "  def __init__(self,fname):\n",
        "    self.fname = fname\n",
        "\n",
        "class child(mother,father):\n",
        "  def __init__(self,mname,fname,cname):\n",
        "    mother.__init__(self,mname)\n",
        "    father.__init__(self,fname)\n",
        "    self.cname = cname\n",
        "  def display(self):\n",
        "    print(self.mname,self.fname,self.cname)\n",
        "\n",
        "ob = child(\"lily\",\"James\",\"Harry\")\n",
        "ob.display()"
      ],
      "metadata": {
        "colab": {
          "base_uri": "https://localhost:8080/"
        },
        "id": "n-CvWpyhjlfQ",
        "outputId": "fe20e4b7-e737-4bed-c96c-496815208c8b"
      },
      "execution_count": null,
      "outputs": [
        {
          "output_type": "stream",
          "name": "stdout",
          "text": [
            "lily James Harry\n"
          ]
        }
      ]
    },
    {
      "cell_type": "markdown",
      "source": [
        " Multilevel Inheritance(p1->p2->p3)\n",
        "\n",
        "Question: Create class Vehicle. Inherit it into Car, and then ElectricCar. Add one method in each and show how child class can access all methods."
      ],
      "metadata": {
        "id": "CGChjU6sm64E"
      }
    },
    {
      "cell_type": "code",
      "source": [
        "class Vehicle:\n",
        "  def displayVeh(self):\n",
        "    print(\"This is my vehicle\")\n",
        "class Car(Vehicle):\n",
        "  def displayCar(self):\n",
        "    print(\"This is my car\")\n",
        "class Electriccar(Car):\n",
        "  def displayele(self):\n",
        "    print(\"This is my electric car\")\n",
        "\n",
        "ob = Electriccar()\n",
        "ob.displayele()\n",
        "ob.displayCar()\n",
        "ob.displayVeh()"
      ],
      "metadata": {
        "colab": {
          "base_uri": "https://localhost:8080/"
        },
        "id": "IkRapF_umU-2",
        "outputId": "f1a5c3e5-3cd1-405a-bf9c-47b93f511f52"
      },
      "execution_count": null,
      "outputs": [
        {
          "output_type": "stream",
          "name": "stdout",
          "text": [
            "This is my electric car\n",
            "This is my car\n",
            "This is my vehicle\n"
          ]
        }
      ]
    },
    {
      "cell_type": "code",
      "source": [
        "class vehicle:\n",
        "    def __init__(self,color):\n",
        "        self.color =  color\n",
        "\n",
        "class car(Vehicle):\n",
        "    def __init__(self,color,battery_use):\n",
        "        vehicle.__init__(self,color)\n",
        "        self.battery_use = battery_use\n",
        "class electric_vehicle(car) :\n",
        "    def __init__(self, color,battery_use,fuel_type):\n",
        "        car.__init__(self,color,battery_use)\n",
        "        self.Fuel_type = fuel_type\n",
        "    def display(self):\n",
        "      print(self.color,self.Fuel_type)\n",
        "\n",
        "E1 = electric_vehicle(\"Red\",\"F1\",\"Hybrid\")\n",
        "E1.display()"
      ],
      "metadata": {
        "colab": {
          "base_uri": "https://localhost:8080/"
        },
        "id": "9wrOo6QeqB_p",
        "outputId": "c8b258ec-cdf4-4978-fca8-60a2acad531e"
      },
      "execution_count": null,
      "outputs": [
        {
          "output_type": "stream",
          "name": "stdout",
          "text": [
            "Red Hybrid\n"
          ]
        }
      ]
    },
    {
      "cell_type": "code",
      "source": [
        "class Vechile:\n",
        "    def supclass(self):\n",
        "        print(\"I am vechile class\")\n",
        "class car(Vechile):\n",
        "    def carmethod(self):\n",
        "        print(\"I am car class\")\n",
        "class eleccar(car):\n",
        "    def eleccar(self):\n",
        "        print(\"I am elec car class\")\n",
        "obj=eleccar()\n",
        "obj.eleccar()\n",
        "obj.carmethod()\n",
        "obj.supclass()"
      ],
      "metadata": {
        "colab": {
          "base_uri": "https://localhost:8080/"
        },
        "id": "NvS2ttYGq00k",
        "outputId": "d98292a5-7195-4780-a423-942475ebe7d5"
      },
      "execution_count": null,
      "outputs": [
        {
          "output_type": "stream",
          "name": "stdout",
          "text": [
            "I am elec car class\n",
            "I am car class\n",
            "I am vechile class\n"
          ]
        }
      ]
    },
    {
      "cell_type": "markdown",
      "source": [
        ":\n",
        "Create a base class Animal with method speak(). Inherit it in Dog and Cat classes and override the speak() method in each."
      ],
      "metadata": {
        "id": "TyzCFxRtr8jO"
      }
    },
    {
      "cell_type": "code",
      "source": [
        "class Animal:\n",
        "  def speak(self):\n",
        "    print(\"Animal speak\")\n",
        "class Dog(Animal):\n",
        "  def speak(self):\n",
        "    print(\"Dog speak\")\n",
        "class Cat(Animal):\n",
        "  def speak(self):\n",
        "    print(\"Cat speak\")\n",
        "\n",
        "ob1 = Dog()\n",
        "ob1.speak()\n",
        "ob2 = Cat()\n",
        "ob2.speak()"
      ],
      "metadata": {
        "id": "glsS9shxrmBq",
        "colab": {
          "base_uri": "https://localhost:8080/"
        },
        "outputId": "efac093e-264b-4883-9504-5a274550373f"
      },
      "execution_count": null,
      "outputs": [
        {
          "output_type": "stream",
          "name": "stdout",
          "text": [
            "Dog speak\n",
            "Cat speak\n"
          ]
        }
      ]
    },
    {
      "cell_type": "markdown",
      "source": [
        "Polimorpism --> Many forms\n",
        "\n",
        "different objects Use same method name but behave different\n",
        "\n",
        "Same method name\n",
        "\n",
        "Differnt behaviour based on object"
      ],
      "metadata": {
        "id": "7ewCeqPvS6YL"
      }
    },
    {
      "cell_type": "code",
      "source": [
        "class Dog:\n",
        "  def speak(self):\n",
        "    print(\"Bark\")\n",
        "\n",
        "class Cat:\n",
        "  def speak(self):\n",
        "    print(\"Meow\")\n",
        "\n",
        "def makesound(object):\n",
        "  object.speak()\n",
        "\n",
        "ob1 = Dog()\n",
        "ob2 = Cat()\n",
        "makesound(ob1)\n",
        "makesound(ob2)\n"
      ],
      "metadata": {
        "colab": {
          "base_uri": "https://localhost:8080/"
        },
        "id": "ah73V4xzSrNh",
        "outputId": "ff7413b3-37ee-4286-8bc5-90124178085a"
      },
      "execution_count": null,
      "outputs": [
        {
          "output_type": "stream",
          "name": "stdout",
          "text": [
            "Bark\n",
            "Meow\n"
          ]
        }
      ]
    },
    {
      "cell_type": "code",
      "source": [
        "class Animal:\n",
        "  def speak(self):\n",
        "    print(\"Animal speak\")\n",
        "class Dog(Animal):\n",
        "  def speak(self):\n",
        "    print(\"Dog speak\")\n",
        "class Cat(Animal):\n",
        "  def speak(self):\n",
        "    print(\"Cat speak\")\n",
        "\n",
        "ob = Animal()\n",
        "ob.speak()\n",
        "ob1 = Dog()\n",
        "ob1.speak()\n",
        "ob2 = Cat()\n",
        "ob2.speak()\n"
      ],
      "metadata": {
        "colab": {
          "base_uri": "https://localhost:8080/"
        },
        "id": "x2FvHn1kYMiX",
        "outputId": "16b315d2-0da9-4d3f-eaf8-1f4ce56f980d"
      },
      "execution_count": null,
      "outputs": [
        {
          "output_type": "stream",
          "name": "stdout",
          "text": [
            "Animal speak\n",
            "Dog speak\n",
            "Cat speak\n"
          ]
        }
      ]
    },
    {
      "cell_type": "code",
      "source": [
        "#Overloading and Overriding\n",
        "def sum(a,b):\n",
        "  return a+b\n",
        "def sum(a,b,c):\n",
        "  return a+b+c\n",
        "#print(sum(3,4)) - > this is not allowed\n",
        "# Python does not suppoert overloading\n",
        "def sum(a,b,c,d):\n",
        "  return a+b+c+d\n",
        "print(sum(3,4,5,6))"
      ],
      "metadata": {
        "colab": {
          "base_uri": "https://localhost:8080/"
        },
        "id": "SgyhFXisZ9-Y",
        "outputId": "3596d0bf-fa07-4fd5-bc73-7ee9829daddf"
      },
      "execution_count": null,
      "outputs": [
        {
          "output_type": "stream",
          "name": "stdout",
          "text": [
            "18\n"
          ]
        }
      ]
    },
    {
      "cell_type": "code",
      "source": [
        "#overriding\n",
        "def greet():\n",
        "  print(\"Hello world\")\n",
        "def greet():\n",
        "  print(\"World is beutiful\")\n",
        "greet()"
      ],
      "metadata": {
        "colab": {
          "base_uri": "https://localhost:8080/"
        },
        "id": "Hlrw2xEbdY43",
        "outputId": "c931b35a-e7c3-4e72-a768-f0669f815992"
      },
      "execution_count": null,
      "outputs": [
        {
          "output_type": "stream",
          "name": "stdout",
          "text": [
            "World is beutiful\n"
          ]
        }
      ]
    },
    {
      "cell_type": "markdown",
      "source": [
        "Abstraction\n",
        "\n",
        "-Hides useless info\n",
        "\n",
        "-Shows only useful once\n",
        "\n"
      ],
      "metadata": {
        "id": "YYXluSJOgEV9"
      }
    },
    {
      "cell_type": "code",
      "source": [
        "from abc import ABC, abstractmethod\n",
        "#abc - Abstract base classes\n",
        "# ABC - base class provided by abc\n",
        "class Vehicle(ABC): #abstract class\n",
        "  @abstractmethod\n",
        "  def start(self):\n",
        "    pass\n",
        "  @abstractmethod\n",
        "  def stop(self):\n",
        "    pass\n",
        "  def display(self):\n",
        "    print(\"Hello\")"
      ],
      "metadata": {
        "id": "27-4QG5IfV0R"
      },
      "execution_count": null,
      "outputs": []
    },
    {
      "cell_type": "code",
      "source": [
        "#Concrete class1 - Child of Abstact class\n",
        "#Must implement the abstract method\n",
        "class car(Vehicle):\n",
        "  def start(self):\n",
        "    print(\"Car started\")\n",
        "  def stop(self):\n",
        "    print(\"Car stoped\")\n",
        "ob = car()\n",
        "ob.start()\n",
        "class Bike(Vehicle):\n",
        "  def start(self):\n",
        "    print(\"Bike started\")\n",
        "  def stop(self):\n",
        "    print(\"Bike stoped\")\n"
      ],
      "metadata": {
        "colab": {
          "base_uri": "https://localhost:8080/"
        },
        "id": "Fcplsl3okqKQ",
        "outputId": "49c0c3b5-64b0-453d-cc77-ba7bb38e6003"
      },
      "execution_count": null,
      "outputs": [
        {
          "output_type": "stream",
          "name": "stdout",
          "text": [
            "Car started\n"
          ]
        }
      ]
    },
    {
      "cell_type": "markdown",
      "source": [
        "Design a ride booking system with an abstract class Ride having an abstract method calculate_fare(). Create two concrete classes BikeRide and CarRide implementing this method differently. Use Python's abc module"
      ],
      "metadata": {
        "id": "HtPFSwIAwFmh"
      }
    },
    {
      "cell_type": "code",
      "source": [
        "from abc import ABC, abstractmethod\n",
        "class RideBooking(ABC):\n",
        "  @abstractmethod\n",
        "  def calculate_fair(self,distance):\n",
        "    pass\n",
        "\n",
        "class BikeRide(RideBooking):\n",
        "  def calculate_fair(self,distance):\n",
        "    print(\"Calculated Fair is: \",distance*10)\n",
        "\n",
        "class CarRide(RideBooking):\n",
        "  def calculate_fair(self, distance):\n",
        "    print(\"Calculated fair: \",distance*20)\n",
        "\n",
        "ob1 = BikeRide()\n",
        "ob2 = CarRide()\n",
        "n = int(input())\n",
        "ob1.calculate_fair(n)\n",
        "ob2.calculate_fair(n)"
      ],
      "metadata": {
        "colab": {
          "base_uri": "https://localhost:8080/"
        },
        "id": "S9KUySBYr3Tr",
        "outputId": "aba6360c-2948-4d8a-a608-3db4ca432916"
      },
      "execution_count": null,
      "outputs": [
        {
          "output_type": "stream",
          "name": "stdout",
          "text": [
            "50\n",
            "Calculated Fair is:  500\n",
            "Calculated fair:  1000\n"
          ]
        }
      ]
    },
    {
      "cell_type": "markdown",
      "source": [
        "You're creating a library management system. LibraryMember has name and member ID. A PremiumMember can borrow up to 5 books. Track how many books they borrowed and stop them if they reach the limit."
      ],
      "metadata": {
        "id": "A0-UfRxG1_jL"
      }
    },
    {
      "cell_type": "markdown",
      "source": [
        "Story:\n",
        "You are developing a food delivery app. A Customer can place an order, Location gives delivery address, and OrderDetails inherits both."
      ],
      "metadata": {
        "id": "WaCW_Ct52E_T"
      }
    },
    {
      "cell_type": "code",
      "source": [
        "from abc import ABC , abstractmethod\n",
        "\n",
        "class riding_calculator(ABC) :\n",
        "    @abstractmethod\n",
        "    def calculate_fare(self,distance):\n",
        "        self.distance = distance\n",
        "        pass\n",
        "class bike(riding_calculator) :\n",
        "    def calculate_fare(self,distance) :\n",
        "        total_fare = distance * 10\n",
        "        return total_fare\n",
        "class Car(riding_calculator) :\n",
        "    def calculate_fare(self,distance) :\n",
        "        total_fare = distance * 20\n",
        "        return total_fare\n",
        "\n",
        "distance = int(input())\n",
        "car_fare = Car()\n",
        "bike_fare = bike()\n",
        "\n",
        "print(car_fare.calculate_fare(distance))\n",
        "print(bike_fare.calculate_fare(distance))"
      ],
      "metadata": {
        "colab": {
          "base_uri": "https://localhost:8080/"
        },
        "id": "Wz2f0lyc1NBr",
        "outputId": "a3ee00ca-8318-45ee-b7d2-b34843b1fe36"
      },
      "execution_count": null,
      "outputs": [
        {
          "output_type": "stream",
          "name": "stdout",
          "text": [
            "50\n",
            "1000\n",
            "500\n"
          ]
        }
      ]
    },
    {
      "cell_type": "code",
      "source": [],
      "metadata": {
        "id": "2YpeEpO62R8C"
      },
      "execution_count": null,
      "outputs": []
    }
  ]
}